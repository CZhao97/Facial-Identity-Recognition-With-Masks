{
  "nbformat": 4,
  "nbformat_minor": 0,
  "metadata": {
    "colab": {
      "name": "Project_Face_detection_ensembled_newest_local.ipynb",
      "provenance": [],
      "collapsed_sections": []
    },
    "kernelspec": {
      "name": "python3",
      "display_name": "Python 3"
    },
    "language_info": {
      "name": "python"
    },
    "accelerator": "GPU"
  },
  "cells": [
    {
      "cell_type": "markdown",
      "source": [
        "# Real-time face detection & ID identification model for fast check-in."
      ],
      "metadata": {
        "id": "LyPFo1Fgm8IG"
      }
    },
    {
      "cell_type": "markdown",
      "source": [
        "# Install necessary packages"
      ],
      "metadata": {
        "id": "IHS87y3cnSFr"
      }
    },
    {
      "cell_type": "code",
      "execution_count": 1,
      "metadata": {
        "colab": {
          "base_uri": "https://localhost:8080/"
        },
        "id": "FyYCOhA9ei9M",
        "outputId": "35d88c50-6818-40cb-99a3-c778c3559478"
      },
      "outputs": [
        {
          "output_type": "stream",
          "name": "stdout",
          "text": [
            "Collecting facenet-pytorch\n",
            "  Downloading facenet_pytorch-2.5.2-py3-none-any.whl (1.9 MB)\n",
            "\u001b[K     |████████████████████████████████| 1.9 MB 17.0 MB/s \n",
            "\u001b[?25hRequirement already satisfied: pillow in /usr/local/lib/python3.7/dist-packages (from facenet-pytorch) (7.1.2)\n",
            "Requirement already satisfied: requests in /usr/local/lib/python3.7/dist-packages (from facenet-pytorch) (2.23.0)\n",
            "Requirement already satisfied: numpy in /usr/local/lib/python3.7/dist-packages (from facenet-pytorch) (1.21.5)\n",
            "Requirement already satisfied: torchvision in /usr/local/lib/python3.7/dist-packages (from facenet-pytorch) (0.11.1+cu111)\n",
            "Requirement already satisfied: chardet<4,>=3.0.2 in /usr/local/lib/python3.7/dist-packages (from requests->facenet-pytorch) (3.0.4)\n",
            "Requirement already satisfied: idna<3,>=2.5 in /usr/local/lib/python3.7/dist-packages (from requests->facenet-pytorch) (2.10)\n",
            "Requirement already satisfied: urllib3!=1.25.0,!=1.25.1,<1.26,>=1.21.1 in /usr/local/lib/python3.7/dist-packages (from requests->facenet-pytorch) (1.24.3)\n",
            "Requirement already satisfied: certifi>=2017.4.17 in /usr/local/lib/python3.7/dist-packages (from requests->facenet-pytorch) (2021.10.8)\n",
            "Requirement already satisfied: torch==1.10.0 in /usr/local/lib/python3.7/dist-packages (from torchvision->facenet-pytorch) (1.10.0+cu111)\n",
            "Requirement already satisfied: typing-extensions in /usr/local/lib/python3.7/dist-packages (from torch==1.10.0->torchvision->facenet-pytorch) (3.10.0.2)\n",
            "Installing collected packages: facenet-pytorch\n",
            "Successfully installed facenet-pytorch-2.5.2\n",
            "Collecting mmcv\n",
            "  Downloading mmcv-1.4.8.tar.gz (498 kB)\n",
            "\u001b[K     |████████████████████████████████| 498 kB 11.7 MB/s \n",
            "\u001b[?25hCollecting addict\n",
            "  Downloading addict-2.4.0-py3-none-any.whl (3.8 kB)\n",
            "Requirement already satisfied: numpy in /usr/local/lib/python3.7/dist-packages (from mmcv) (1.21.5)\n",
            "Requirement already satisfied: packaging in /usr/local/lib/python3.7/dist-packages (from mmcv) (21.3)\n",
            "Requirement already satisfied: Pillow in /usr/local/lib/python3.7/dist-packages (from mmcv) (7.1.2)\n",
            "Requirement already satisfied: pyyaml in /usr/local/lib/python3.7/dist-packages (from mmcv) (3.13)\n",
            "Collecting yapf\n",
            "  Downloading yapf-0.32.0-py2.py3-none-any.whl (190 kB)\n",
            "\u001b[K     |████████████████████████████████| 190 kB 32.7 MB/s \n",
            "\u001b[?25hRequirement already satisfied: pyparsing!=3.0.5,>=2.0.2 in /usr/local/lib/python3.7/dist-packages (from packaging->mmcv) (3.0.7)\n",
            "Building wheels for collected packages: mmcv\n",
            "  Building wheel for mmcv (setup.py) ... \u001b[?25l\u001b[?25hdone\n",
            "  Created wheel for mmcv: filename=mmcv-1.4.8-py2.py3-none-any.whl size=762284 sha256=ac0e871ac32ad129bb64bdb5d3f0a329aa16152c2d29cf66105c99e2849dd98b\n",
            "  Stored in directory: /root/.cache/pip/wheels/f5/a5/24/3bc956c9c1330a563691cfc6905df8e6b142ea0740b6f6fa87\n",
            "Successfully built mmcv\n",
            "Installing collected packages: yapf, addict, mmcv\n",
            "Successfully installed addict-2.4.0 mmcv-1.4.8 yapf-0.32.0\n"
          ]
        },
        {
          "output_type": "execute_result",
          "data": {
            "text/plain": [
              ""
            ]
          },
          "metadata": {},
          "execution_count": 1
        }
      ],
      "source": [
        "%%shell\n",
        "pip install facenet-pytorch\n",
        "pip install mmcv"
      ]
    },
    {
      "cell_type": "markdown",
      "source": [
        "# Import Dependencies"
      ],
      "metadata": {
        "id": "S2mPaeV6naPG"
      }
    },
    {
      "cell_type": "code",
      "source": [
        "from IPython.display import Javascript, Image\n",
        "from IPython import display as dis\n",
        "from google.colab.output import eval_js\n",
        "from base64 import b64decode, b64encode\n",
        "import numpy as np\n",
        "import io\n",
        "import html\n",
        "import time\n",
        "from IPython.core.display import Video\n",
        "from facenet_pytorch import MTCNN\n",
        "import torch\n",
        "import mmcv, cv2\n",
        "import PIL\n",
        "from PIL import Image, ImageDraw\n",
        "import matplotlib.pyplot as plt\n",
        "from google.colab import files\n",
        "from google.colab import drive\n",
        "import os\n",
        "from os import listdir\n",
        "from os.path import isfile, join\n",
        "import re\n",
        "import shutil\n",
        "import torch.nn as nn\n",
        "import torch.nn.functional as F\n",
        "import torchvision\n",
        "from torch.utils.data.sampler import SubsetRandomSampler\n",
        "from torchvision import datasets, transforms\n",
        "import torch.optim as optim\n",
        "from tqdm import tqdm\n",
        "from torch.autograd import Variable\n",
        "\n",
        "use_cuda = True\n",
        "\n",
        "drive.mount('/content/drive')"
      ],
      "metadata": {
        "id": "SBvpY_rdeoLV",
        "colab": {
          "base_uri": "https://localhost:8080/"
        },
        "outputId": "8e0de0c5-69a7-4ed8-d3ce-d361f7561baf"
      },
      "execution_count": 2,
      "outputs": [
        {
          "output_type": "stream",
          "name": "stdout",
          "text": [
            "Mounted at /content/drive\n"
          ]
        }
      ]
    },
    {
      "cell_type": "code",
      "source": [
        "class FastMTCNN(object):\n",
        "    \"\"\"Fast MTCNN implementation.\"\"\"\n",
        "    \n",
        "    def __init__(self, stride, resize=1, *args, **kwargs):\n",
        "        \"\"\"Constructor for FastMTCNN class.\n",
        "        \n",
        "        Arguments:\n",
        "            stride (int): The detection stride. Faces will be detected every `stride` frames\n",
        "                and remembered for `stride-1` frames.\n",
        "        \n",
        "        Keyword arguments:\n",
        "            resize (float): Fractional frame scaling. [default: {1}]\n",
        "            *args: Arguments to pass to the MTCNN constructor. See help(MTCNN).\n",
        "            **kwargs: Keyword arguments to pass to the MTCNN constructor. See help(MTCNN).\n",
        "        \"\"\"\n",
        "        self.stride = stride\n",
        "        self.resize = resize\n",
        "        self.mtcnn = MTCNN(*args, **kwargs)\n",
        "        \n",
        "    def __call__(self, frames):\n",
        "        \"\"\"Detect faces in frames using strided MTCNN.\"\"\"\n",
        "        if self.resize != 1:\n",
        "            frames = [\n",
        "                cv2.resize(f, (int(f.shape[1] * self.resize), int(f.shape[0] * self.resize)))\n",
        "                    for f in frames\n",
        "            ]\n",
        "                      \n",
        "        boxes, probs = self.mtcnn.detect(frames[::self.stride])\n",
        "\n",
        "        faces = []\n",
        "        for i, frame in enumerate(frames):\n",
        "            box_ind = int(i / self.stride)\n",
        "            if boxes[box_ind] is None:\n",
        "                continue\n",
        "            for box in boxes[box_ind]:\n",
        "                box = [int(b) for b in box]\n",
        "                faces.append(frame[box[1]:box[3], box[0]:box[2]])\n",
        "        \n",
        "        return faces"
      ],
      "metadata": {
        "id": "jyiKcDvYAV_l"
      },
      "execution_count": 3,
      "outputs": []
    },
    {
      "cell_type": "code",
      "source": [
        "device = torch.device('cuda:0' if torch.cuda.is_available() else 'cpu')\n",
        "print('Running on device: {}'.format(device))\n",
        "# currently using, for face detection\n",
        "mtcnn = MTCNN(keep_all=True, min_face_size=224, device=device)\n",
        "# A faster model, for future performance improvment \n",
        "mtcnn_fast = FastMTCNN(keep_all=True, min_face_size=224, device=device,stride=4)"
      ],
      "metadata": {
        "id": "S5WwCg6O7Uwb",
        "colab": {
          "base_uri": "https://localhost:8080/"
        },
        "outputId": "5ecc02ff-e681-48b9-f170-58b1d0b0ed03"
      },
      "execution_count": 4,
      "outputs": [
        {
          "output_type": "stream",
          "name": "stdout",
          "text": [
            "Running on device: cuda:0\n"
          ]
        }
      ]
    },
    {
      "cell_type": "markdown",
      "source": [
        "# Part A: Extracting training data from input videos."
      ],
      "metadata": {
        "id": "H6LqwC-MdH67"
      }
    },
    {
      "cell_type": "code",
      "source": [
        "# uploaded_video = files.upload() # For uploading training video to colab, click cancel if have no file to upload\n",
        "# user_name = \"ROY\"          #User name of the above uploaded video"
      ],
      "metadata": {
        "id": "YGSswGlMdHFN"
      },
      "execution_count": null,
      "outputs": []
    },
    {
      "cell_type": "markdown",
      "source": [
        "## Frames extraction: Extract each frame of user face, save to google drive"
      ],
      "metadata": {
        "id": "i-2_5mK_EPI-"
      }
    },
    {
      "cell_type": "code",
      "source": [
        "user_name = \"Zijian\"          #User name of the above uploaded video\n",
        "video = mmcv.VideoReader('E:/Codes/1517Project/Dataset/FacialDataset/OriginalVideo/' + user_name + '/' + user_name + '2.mp4') # Select training video here\n",
        "frames = [Image.fromarray(cv2.cvtColor(frame, cv2.COLOR_BGR2RGB)) for frame in video] # Extracting frames from video\n",
        "frames_tracked = []\n",
        "path = 'E:/Codes/1517Project/Dataset/FacialDataset/ImageDataset/' + user_name  #Put in the output directory you want\n",
        "# os.mkdir(path)\n",
        "os.chdir(path)\n",
        "for i, frame in enumerate(frames):\n",
        "    print('\\rTracking frame: {}'.format(i + 1), end='')\n",
        "    img = np.array(frame)    \n",
        "    faces, _ = mtcnn.detect(frame)                                           # Return coordinates of faces from mtcnn model\n",
        "\n",
        "    if i%2==0:  # change this to adjust sampling rate\n",
        "\n",
        "        if faces is not None:\n",
        "            for (x,y,w,h) in faces:\n",
        "                x_w_diff = int(w-x)\n",
        "                y_h_diff = int(h-y)\n",
        "                if x_w_diff > 223. and y_h_diff >223.:\n",
        "                    x_w_mid = int(x+(w-x)/2)\n",
        "                    y_h_mid = int(y+(h-y)/2)\n",
        "                    selected_x = x_w_mid - 155\n",
        "                    selected_w = x_w_mid + 155\n",
        "                    selected_y = y_h_mid - 260\n",
        "                    selected_h = y_h_mid + 50\n",
        "                    selected_img = img[selected_y:selected_h, selected_x:selected_w, :] #Adjustment for cropping the correct face images.\n",
        "\n",
        "                    faces = Image.fromarray(selected_img).resize((224,224))             #Resizing the image to desired input size.\n",
        "\n",
        "                    gray_img = cv2.cvtColor(np.array(faces), cv2.COLOR_RGB2GRAY)        #Converting to Gray Scale images for training\n",
        "                    cv2.imwrite(user_name + str(i) + '.png', gray_img)\n",
        "                    #plt.imshow(gray_img, cmap = 'gray')                                #Displaying images only for developing, commented out in actual practice.\n",
        "                    #plt.show()\n",
        "    else:\n",
        "      continue\n",
        "          \n",
        "\n",
        "print('\\nDone')"
      ],
      "metadata": {
        "colab": {
          "base_uri": "https://localhost:8080/"
        },
        "id": "qFUoWZkXfN80",
        "outputId": "387cf36f-90f1-4506-8d3e-fa8c2248ef5d"
      },
      "execution_count": null,
      "outputs": [
        {
          "name": "stdout",
          "output_type": "stream",
          "text": [
            "Tracking frame: 278\n",
            "Done\n"
          ]
        }
      ]
    },
    {
      "cell_type": "markdown",
      "source": [
        "## ID identification MODEL and TRAINING method CAN be placed below."
      ],
      "metadata": {
        "id": "xF_d-_BTJiS_"
      }
    },
    {
      "cell_type": "markdown",
      "source": [
        "We will use `ImageFolder` to load the categorical data. The label create by `ImageFolder` are integers begining from 0. We first see the correspondence of integer label to name label."
      ],
      "metadata": {
        "collapsed": false,
        "id": "hl6-H9kcQNSf"
      }
    },
    {
      "cell_type": "code",
      "execution_count": null,
      "outputs": [
        {
          "output_type": "stream",
          "name": "stdout",
          "text": [
            "{'Bob': 0, 'DYY': 1, 'HYL': 2, 'JCL': 3, 'LD': 4, 'ML': 5, 'Roy': 6, 'Ruihua': 7, 'Starlord': 8, 'WPL': 9, 'ZC': 10, 'Zijian': 11}\n"
          ]
        }
      ],
      "source": [
        "### See Imagefolder label\n",
        "dataset_path = '/content/drive/MyDrive/ut/MIE1517_group_project/FinalImgDataset'\n",
        "\n",
        "transform = transforms.Compose([transforms.Resize((224, 224)),  # (224, 224)\n",
        "                                    # transforms.RandomHorizontalFlip(),  # flip images\n",
        "                                    transforms.ToTensor(),\n",
        "                                    transforms.Normalize(mean=[0.5, 0.5, 0.5], std=[0.5, 0.5, 0.5]),])\n",
        "data = datasets.ImageFolder(root=dataset_path, transform=transform)\n",
        "print(data.class_to_idx)\n"
      ],
      "metadata": {
        "pycharm": {
          "name": "#%%\n"
        },
        "colab": {
          "base_uri": "https://localhost:8080/"
        },
        "id": "OLBgcetsQNSf",
        "outputId": "789acc62-e9ab-4f25-a715-481688cbfd1c"
      }
    },
    {
      "cell_type": "code",
      "source": [
        "def split_data(dataset_path, batch_size=64):\n",
        "\n",
        "    transform = transforms.Compose([transforms.Resize((224, 224)),\n",
        "                    # transforms.RandomHorizontalFlip(),  # flip images\n",
        "                    transforms.ToTensor(),\n",
        "                    transforms.Normalize(mean=[0.5, 0.5, 0.5], std=[0.5, 0.5, 0.5]),])\n",
        "\n",
        "    training_dataset = datasets.ImageFolder(root = dataset_path, transform=transform)\n",
        "\n",
        "    # print(training_dataset.class_to_idx)\n",
        "\n",
        "    indices = list(range(len(training_dataset)))\n",
        "\n",
        "    np.random.shuffle(indices)\n",
        "\n",
        "    split_train_val = int(0.8 * len(indices))\n",
        "\n",
        "    train_indices, val_indices = indices[:split_train_val], indices[split_train_val:]\n",
        "\n",
        "    train_sampler = SubsetRandomSampler(train_indices)\n",
        "    val_sampler = SubsetRandomSampler(val_indices)\n",
        "\n",
        "    train_loader, val_loader = torch.utils.data.DataLoader(training_dataset, batch_size=batch_size, sampler=train_sampler), \\\n",
        "                  torch.utils.data.DataLoader(training_dataset, batch_size=batch_size, sampler=val_sampler)\n",
        "                    \n",
        "    return train_loader, val_loader"
      ],
      "metadata": {
        "id": "yQzI9XK5JsIw"
      },
      "execution_count": null,
      "outputs": []
    },
    {
      "cell_type": "code",
      "execution_count": null,
      "outputs": [
        {
          "output_type": "display_data",
          "data": {
            "text/plain": [
              "<Figure size 432x288 with 32 Axes>"
            ],
            "image/png": "[encoded data removed]"
          },
          "metadata": {
            "needs_background": "light"
          }
        }
      ],
      "source": [
        "train_loader, val_loader = split_data(dataset_path, batch_size = 32)\n",
        "\n",
        "k = 0\n",
        "for images, labels in train_loader:\n",
        "    # since batch_size = 1, there is only 1 image in `images`\n",
        "    image = images[0]\n",
        "    # place the colour channel at the end, instead of at the beginning\n",
        "    img = np.transpose(image, [1, 2, 0])\n",
        "    # normalize pixel intensity values to [0, 1]\n",
        "    img = img / 2 + 0.5\n",
        "    plt.subplot(4, 8, k+1)\n",
        "    plt.axis('off')\n",
        "    plt.imshow(img)\n",
        "    k += 1\n",
        "    if k > 31:\n",
        "        plt.show()\n",
        "        break"
      ],
      "metadata": {
        "pycharm": {
          "name": "#%%\n"
        },
        "colab": {
          "base_uri": "https://localhost:8080/",
          "height": 237
        },
        "id": "BWzTcGF7QNSg",
        "outputId": "60a3fab2-cc38-4005-87c7-229535b449ef"
      }
    },
    {
      "cell_type": "code",
      "source": [
        "class AlexNetModel(nn.Module):\n",
        "\n",
        "    def __init__(self, outputs):\n",
        "        super(AlexNetModel, self).__init__()\n",
        "        self.name = 'AlexNetModel'\n",
        "        self.conv1 = nn.Conv2d(256, 30, 3)\n",
        "        self.pool = nn.MaxPool2d(2, 2)\n",
        "        self.fc1 = nn.Linear(120, 64)\n",
        "        self.fc2 = nn.Linear(64, outputs*2)\n",
        "        self.outputs = outputs\n",
        "\n",
        "    def forward(self, x):\n",
        "        x = self.pool(F.relu(self.conv1(x)))\n",
        "        x = x.view(-1, 120)\n",
        "        x = F.relu(self.fc1(x))\n",
        "        x = self.fc2(x)\n",
        "        mean, variance = torch.split(x, self.outputs, dim=1)\n",
        "        variance = F.softplus(variance) + 1e-6\n",
        "        return mean, variance\n"
      ],
      "metadata": {
        "id": "F7E6MnQJVY7E"
      },
      "execution_count": 8,
      "outputs": []
    },
    {
      "cell_type": "code",
      "source": [
        "class GaussianMixtureAlex(nn.Module):\n",
        "    \"\"\" Gaussian mixture MLP which outputs are mean and variance.\n",
        "\n",
        "    Attributes:\n",
        "        models (int): number of models\n",
        "        inputs (int): number of inputs\n",
        "        outputs (int): number of outputs\n",
        "        hidden_layers (list of ints): hidden layer sizes\n",
        "\n",
        "    \"\"\"\n",
        "    def __init__(self, num_models=5, outputs=1):\n",
        "        super(GaussianMixtureAlex, self).__init__()\n",
        "        self.name = 'GaussianMixtureAlex'\n",
        "        self.num_models = num_models\n",
        "        self.outputs = outputs\n",
        "        for i in range(self.num_models):\n",
        "            model = AlexNetModel(outputs=self.outputs)\n",
        "            setattr(self, 'model_'+str(i), model)\n",
        "            \n",
        "    def forward(self, x):\n",
        "        # connect layers\n",
        "        means = []\n",
        "        variances = []\n",
        "        for i in range(self.num_models):\n",
        "            model = getattr(self, 'model_' + str(i))\n",
        "            mean, var = model(x)\n",
        "            means.append(mean)\n",
        "            variances.append(var)\n",
        "        means = torch.stack(means)\n",
        "        mean = means.mean(dim=0)\n",
        "        variances = torch.stack(variances)\n",
        "        variance = (variances + means.pow(2)).mean(dim=0) - mean.pow(2)\n",
        "        return mean, variance "
      ],
      "metadata": {
        "id": "BbXE2d7CUJ9E"
      },
      "execution_count": 9,
      "outputs": []
    },
    {
      "cell_type": "code",
      "source": [
        "# function to save checkpoint\n",
        "\n",
        "def OneHotEncoder(ls, class_num = 12):\n",
        "  unique_ls = list(set(ls))\n",
        "  onehot_encoded = np.zeros((len(ls), class_num))\n",
        "  for i in range(len(ls)):\n",
        "    onehot_encoded[i][ls[i]] = 1\n",
        "  return onehot_encoded\n",
        "\n",
        "def save_checkpoint(model, batch_size, lr, epoch):\n",
        "  model_path = \"{}_{}_{}_{}\".format(model.name, batch_size, lr, epoch)\n",
        "  torch.save(model, model_path)\n",
        "  print('Checkpoint of {} has been stored successfully!',format(model_path))\n",
        "\n",
        "def NLLloss(y, mean, var):\n",
        "    \"\"\" Negative log-likelihood loss function. \"\"\"\n",
        "    return (torch.log(var) + ((y - mean).pow(2))/var).sum()\n",
        "\n",
        "def get_accuracy(model, data_loader, grey_images_flag = False):\n",
        "  correct = 0\n",
        "  total = 0\n",
        "\n",
        "  alexnet = torchvision.models.alexnet(pretrained=True)\n",
        "\n",
        "  for imgs, labels in data_loader:\n",
        "    #############################################\n",
        "    #To Enable GPU Usage\n",
        "\n",
        "    if grey_images_flag:\n",
        "\n",
        "      grey_images = torchvision.transforms.Grayscale()(imgs)\n",
        "\n",
        "      imgs = torch.tensor(np.tile(grey_images, [1,3,1,1]))\n",
        "\n",
        "    imgs = alexnet.features(imgs)\n",
        "\n",
        "    if use_cuda and torch.cuda.is_available():\n",
        "      imgs = imgs.cuda()\n",
        "      labels = labels.cuda()\n",
        "    #############################################\n",
        "    \n",
        "    mean, _ = model(imgs)\n",
        "    \n",
        "    #select index with maximum prediction score\n",
        "    pred = mean.max(1, keepdim=True)[1]\n",
        "    correct += pred.eq(labels.view_as(pred)).sum().item()\n",
        "    total += imgs.shape[0]\n",
        "  return correct / total\n",
        "\n",
        "def predict(model, data_loader, grey_images_flag = False):\n",
        "\n",
        "  alexnet = torchvision.models.alexnet(pretrained=True)\n",
        "\n",
        "  pred_ls, var_ls, std_ls = [], [], []\n",
        "\n",
        "  for imgs, _ in data_loader:\n",
        "    #############################################\n",
        "    #To Enable GPU Usage\n",
        "\n",
        "    if grey_images_flag:\n",
        "\n",
        "      grey_images = torchvision.transforms.Grayscale()(imgs)\n",
        "\n",
        "      imgs = torch.tensor(np.tile(grey_images, [1,3,1,1]))\n",
        "\n",
        "    imgs = alexnet.features(imgs)\n",
        "\n",
        "    if use_cuda and torch.cuda.is_available():\n",
        "      imgs = imgs.cuda()\n",
        "    #############################################\n",
        "    \n",
        "    mean, var = model(imgs)\n",
        "    \n",
        "    #select index with maximum prediction score\n",
        "    pred = torch.argmax(mean, dim=1)\n",
        "\n",
        "    pred = pred.cpu().detach().numpy()\n",
        "\n",
        "    var = var.cpu().detach().numpy()\n",
        "\n",
        "    variance = [var[i][val] for i, val in enumerate(pred)]\n",
        "\n",
        "    std = np.sqrt(variance)\n",
        "\n",
        "    pred_ls = [*pred_ls, *pred]\n",
        "\n",
        "    var_ls = [*var_ls, *variance]\n",
        "\n",
        "    std_ls = [*std_ls, *std]\n",
        "\n",
        "  return pred_ls, var_ls, std_ls\n",
        "\n",
        "\n",
        "def train(model, dataset_path, opt, batch_size = 64, learning_rate=0.01, epochs=30, grey_images_flag = False):\n",
        "\n",
        "  #############################################\n",
        "  # input: grey_images_flag: boolean if gray image conversion is needed\n",
        "  #############################################\n",
        "\n",
        "  train_loader, val_loader = split_data(dataset_path, batch_size = batch_size)\n",
        "\n",
        "  criterion = NLLloss\n",
        "\n",
        "  # criterion = nn.CrossEntropyLoss()\n",
        "\n",
        "  optimizer = opt(model.parameters(), lr=learning_rate)\n",
        "    \n",
        "  iters, losses, train_acc, val_acc = [], [], [], []\n",
        "  \n",
        "  alexnet = torchvision.models.alexnet(pretrained=True)\n",
        "\n",
        "  n = 0 # the number of iterations\n",
        "  for epoch in range(epochs):\n",
        "    for imgs, labels in iter(train_loader):\n",
        "\n",
        "      if grey_images_flag:\n",
        "\n",
        "        grey_images = torchvision.transforms.Grayscale()(imgs)\n",
        "\n",
        "        imgs = torch.tensor(np.tile(grey_images, [1,3,1,1]))\n",
        "\n",
        "      imgs = alexnet.features(imgs)\n",
        "\n",
        "      #############################################\n",
        "      #To Enable GPU Usage\n",
        "      if use_cuda and torch.cuda.is_available():\n",
        "        imgs = imgs.cuda()\n",
        "\n",
        "        one_hot_labels = torch.from_numpy(OneHotEncoder(labels))\n",
        "\n",
        "        labels = one_hot_labels.cuda()\n",
        "      #############################################\n",
        "  \n",
        "      mean, var = model(imgs) \n",
        "      # print(mean.shape)\n",
        "      # print(var.shape)\n",
        "      # print(labels.shape)\n",
        "\n",
        "      # output = model(imgs)\n",
        "\n",
        "      loss = NLLloss(labels, mean, var)\n",
        "\n",
        "      # loss = criterion(output, labels)\n",
        "\n",
        "      # loss = criterion(m(mean), labels)\n",
        "\n",
        "      loss.backward()\n",
        "      optimizer.step()\n",
        "      optimizer.zero_grad()\n",
        "\n",
        "    # save the current training information\n",
        "    iters.append(n)\n",
        "    losses.append(float(loss)/batch_size)\n",
        "    train_acc.append(get_accuracy(model, train_loader, grey_images_flag = grey_images_flag))\n",
        "    val_acc.append(get_accuracy(model, val_loader, grey_images_flag = grey_images_flag))\n",
        "    print('Epoch{}, Train acc: {} | Val acc: {} '\n",
        "              .format(epoch + 1, \"%.5f\" % train_acc[-1], \"%.5f\" % val_acc[-1]))\n",
        "    n += 1\n",
        "      \n",
        "    if ((epoch+1) % 25 == 0):\n",
        "      save_checkpoint(model, batch_size, learning_rate, epoch+1)\n",
        "\n",
        "  # plotting\n",
        "  plt.title(\"Training Curve\")\n",
        "  plt.plot(iters, losses, label=\"Train\")\n",
        "  plt.xlabel(\"Iterations\")\n",
        "  plt.ylabel(\"Loss\")\n",
        "  plt.show()\n",
        "\n",
        "  plt.title(\"Training Curve\")\n",
        "  plt.plot(iters, train_acc, label=\"Train\")\n",
        "  plt.plot(iters, val_acc, label=\"Validation\")\n",
        "  plt.xlabel(\"Iterations\")\n",
        "  plt.ylabel(\"Training Accuracy\")\n",
        "  plt.legend(loc='best')\n",
        "  plt.show()\n",
        "\n",
        "  print(\"Final Training Accuracy: {}\".format(train_acc[-1]))\n",
        "  print(\"Final Validation Accuracy: {}\".format(val_acc[-1]))"
      ],
      "metadata": {
        "id": "6HqngQ4wVjgq"
      },
      "execution_count": null,
      "outputs": []
    },
    {
      "cell_type": "code",
      "source": [
        "class_num = 12\n",
        "\n",
        "model = GaussianMixtureAlex(outputs = class_num)\n",
        "\n",
        "data_path = 'E:/Codes/1517Project/Dataset/FacialDataset/ImageDataset/'\n",
        "\n",
        "\n",
        "if use_cuda and torch.cuda.is_available():\n",
        "  model.cuda()\n",
        "  print('CUDA is available!  Training on GPU ...')\n",
        "else:\n",
        "  print('CUDA is not available.  Training on CPU ...')\n",
        "  \n",
        "train(model, data_path, opt = optim.Adam, batch_size = 128, learning_rate=0.0001, epochs=50, grey_images_flag = True)"
      ],
      "metadata": {
        "colab": {
          "base_uri": "https://localhost:8080/",
          "height": 414
        },
        "id": "PRfl6tg9WMDe",
        "outputId": "f6ee8c92-8219-4841-b31d-e715dfd93218"
      },
      "execution_count": null,
      "outputs": [
        {
          "name": "stdout",
          "output_type": "stream",
          "text": [
            "CUDA is available!  Training on GPU ...\n",
            "Epoch1, Train acc: 0.24747 | Val acc: 0.25000 \n",
            "Epoch2, Train acc: 0.51150 | Val acc: 0.51471 \n",
            "Epoch3, Train acc: 0.59522 | Val acc: 0.57721 \n",
            "Epoch4, Train acc: 0.59154 | Val acc: 0.56250 \n",
            "Epoch5, Train acc: 0.77737 | Val acc: 0.75368 \n",
            "Epoch6, Train acc: 0.95492 | Val acc: 0.92279 \n",
            "Epoch7, Train acc: 0.99724 | Val acc: 1.00000 \n",
            "Epoch8, Train acc: 0.99724 | Val acc: 1.00000 \n",
            "Epoch9, Train acc: 0.99724 | Val acc: 1.00000 \n",
            "Epoch10, Train acc: 0.99816 | Val acc: 1.00000 \n",
            "Epoch11, Train acc: 0.99816 | Val acc: 1.00000 \n",
            "Epoch12, Train acc: 0.99908 | Val acc: 1.00000 \n",
            "Epoch13, Train acc: 0.99724 | Val acc: 1.00000 \n",
            "Epoch14, Train acc: 0.99908 | Val acc: 1.00000 \n",
            "Epoch15, Train acc: 0.99908 | Val acc: 1.00000 \n",
            "Epoch16, Train acc: 0.99908 | Val acc: 1.00000 \n",
            "Epoch17, Train acc: 0.99908 | Val acc: 1.00000 \n",
            "Epoch18, Train acc: 0.99908 | Val acc: 1.00000 \n",
            "Epoch19, Train acc: 0.99908 | Val acc: 1.00000 \n",
            "Epoch20, Train acc: 0.99908 | Val acc: 1.00000 \n",
            "Epoch21, Train acc: 0.99908 | Val acc: 1.00000 \n",
            "Epoch22, Train acc: 0.99908 | Val acc: 1.00000 \n",
            "Epoch23, Train acc: 0.99908 | Val acc: 1.00000 \n",
            "Epoch24, Train acc: 0.99908 | Val acc: 1.00000 \n",
            "Epoch25, Train acc: 0.99908 | Val acc: 1.00000 \n",
            "Checkpoint of {} has been stored successfully! GaussianMixtureAlex_128_0.0001_25\n",
            "Epoch26, Train acc: 0.99908 | Val acc: 1.00000 \n",
            "Epoch27, Train acc: 0.99908 | Val acc: 1.00000 \n",
            "Epoch28, Train acc: 0.99908 | Val acc: 1.00000 \n",
            "Epoch29, Train acc: 0.99816 | Val acc: 1.00000 \n",
            "Epoch30, Train acc: 0.99816 | Val acc: 1.00000 \n",
            "Epoch31, Train acc: 0.99816 | Val acc: 1.00000 \n",
            "Epoch32, Train acc: 0.99816 | Val acc: 1.00000 \n",
            "Epoch33, Train acc: 0.99908 | Val acc: 1.00000 \n",
            "Epoch34, Train acc: 0.99908 | Val acc: 1.00000 \n",
            "Epoch35, Train acc: 0.99908 | Val acc: 1.00000 \n",
            "Epoch36, Train acc: 0.99908 | Val acc: 1.00000 \n",
            "Epoch37, Train acc: 0.99908 | Val acc: 1.00000 \n",
            "Epoch38, Train acc: 0.99908 | Val acc: 1.00000 \n",
            "Epoch39, Train acc: 0.99908 | Val acc: 1.00000 \n",
            "Epoch40, Train acc: 0.99908 | Val acc: 1.00000 \n",
            "Epoch41, Train acc: 0.99908 | Val acc: 1.00000 \n",
            "Epoch42, Train acc: 0.99908 | Val acc: 1.00000 \n",
            "Epoch43, Train acc: 0.99908 | Val acc: 1.00000 \n",
            "Epoch44, Train acc: 0.99908 | Val acc: 1.00000 \n",
            "Epoch45, Train acc: 0.99908 | Val acc: 1.00000 \n",
            "Epoch46, Train acc: 0.99908 | Val acc: 1.00000 \n",
            "Epoch47, Train acc: 0.99908 | Val acc: 1.00000 \n",
            "Epoch48, Train acc: 0.99908 | Val acc: 1.00000 \n",
            "Epoch49, Train acc: 0.99908 | Val acc: 1.00000 \n",
            "Epoch50, Train acc: 0.99908 | Val acc: 1.00000 \n",
            "Checkpoint of {} has been stored successfully! GaussianMixtureAlex_128_0.0001_50\n"
          ]
        },
        {
          "data": {
            "text/plain": "<Figure size 432x288 with 1 Axes>",
            "image/png": "[encoded data removed]"
          },
          "metadata": {
            "needs_background": "light"
          },
          "output_type": "display_data"
        },
        {
          "data": {
            "text/plain": "<Figure size 432x288 with 1 Axes>",
            "image/png": "[encoded data removed]"
          },
          "metadata": {
            "needs_background": "light"
          },
          "output_type": "display_data"
        },
        {
          "name": "stdout",
          "output_type": "stream",
          "text": [
            "Final Training Accuracy: 0.9990800367985281\n",
            "Final Validation Accuracy: 1.0\n"
          ]
        }
      ]
    },
    {
      "cell_type": "code",
      "source": [
        "train_loader, val_loader = split_data(data_path, batch_size = 32)"
      ],
      "metadata": {
        "id": "mU4r7RS2SxQp"
      },
      "execution_count": null,
      "outputs": []
    },
    {
      "cell_type": "code",
      "source": [
        "# pred, variance, std = predict(model, val_loader, grey_images_flag = True)"
      ],
      "metadata": {
        "id": "qnSB6cMLWR2E"
      },
      "execution_count": null,
      "outputs": []
    },
    {
      "cell_type": "markdown",
      "source": [
        "# Part B: Real time face detection & ID identification "
      ],
      "metadata": {
        "id": "Tv8JBa2EngEs"
      }
    },
    {
      "cell_type": "markdown",
      "source": [
        "## Helper method for creating video streaming"
      ],
      "metadata": {
        "id": "26W3XnZzFSvJ"
      }
    },
    {
      "cell_type": "code",
      "source": [
        "# function to convert the JavaScript object into an OpenCV image\n",
        "def js_to_image(js_reply): \n",
        "  image_bytes = b64decode(js_reply.split(',')[1])        # decode base64 image\n",
        "  jpg_as_np = np.frombuffer(image_bytes, dtype=np.uint8) # convert bytes to numpy array\n",
        "  img = cv2.imdecode(jpg_as_np, flags=1)                 # decode numpy array into OpenCV BGR image\n",
        "\n",
        "  return img\n",
        "\n",
        "# function to convert OpenCV Rectangle bounding box image into base64 byte string to be overlayed on video stream\n",
        "def bbox_to_bytes(ipt):\n",
        "  # ipt: Numpy array (pixels) containing rectangle to overlay on video stream.\n",
        "  # bytes: Base64 image byte string\n",
        "  # convert array into PIL image\n",
        "  bbox_PIL = PIL.Image.fromarray(ipt, 'RGBA')\n",
        "  iobuf = io.BytesIO() \n",
        "  bbox_PIL.save(iobuf, format='png')                                                          # format bbox into png for return\n",
        "  bbox_bytes = 'data:image/png;base64,{}'.format((str(b64encode(iobuf.getvalue()), 'utf-8'))) # format return string\n",
        "\n",
        "  return bbox_bytes\n",
        "  \n",
        "# JavaScript to properly create our live video stream using our webcam as input\n",
        "def video_stream():\n",
        "  js = Javascript('''\n",
        "    var video;\n",
        "    var div = null;\n",
        "    var stream;\n",
        "    var captureCanvas;\n",
        "    var imgElement;\n",
        "    var labelElement;   \n",
        "    var pendingResolve = null;\n",
        "    var shutdown = false;\n",
        "    \n",
        "    function removeDom() {\n",
        "       stream.getVideoTracks()[0].stop();\n",
        "       video.remove();\n",
        "       div.remove();\n",
        "       video = null;\n",
        "       div = null;\n",
        "       stream = null;\n",
        "       imgElement = null;\n",
        "       captureCanvas = null;\n",
        "       labelElement = null;\n",
        "    }\n",
        "    \n",
        "    function onAnimationFrame() {\n",
        "      if (!shutdown) {\n",
        "        window.requestAnimationFrame(onAnimationFrame);\n",
        "      }\n",
        "      if (pendingResolve) {\n",
        "        var result = \"\";\n",
        "        if (!shutdown) {\n",
        "          captureCanvas.getContext('2d').drawImage(video, 0, 0, 720, 720);\n",
        "          result = captureCanvas.toDataURL('image/jpeg', 0.8)\n",
        "        }\n",
        "        var lp = pendingResolve;\n",
        "        pendingResolve = null;\n",
        "        lp(result);\n",
        "      }\n",
        "    }\n",
        "    \n",
        "    async function createDom() {\n",
        "      if (div !== null) {\n",
        "        return stream;\n",
        "      }\n",
        "\n",
        "      div = document.createElement('div');\n",
        "      div.style.border = '2px solid black';\n",
        "      div.style.padding = '3px';\n",
        "      div.style.width = '100%';\n",
        "      div.style.maxWidth = '600px';\n",
        "      document.body.appendChild(div);\n",
        "      \n",
        "      const modelOut = document.createElement('div');\n",
        "      modelOut.innerHTML = \"<span>Status:</span>\";\n",
        "      labelElement = document.createElement('span');\n",
        "      labelElement.innerText = 'No data';\n",
        "      labelElement.style.fontWeight = 'bold';\n",
        "      modelOut.appendChild(labelElement);\n",
        "      div.appendChild(modelOut);\n",
        "           \n",
        "      video = document.createElement('video');\n",
        "      video.style.display = 'block';\n",
        "      video.width = div.clientWidth - 6;\n",
        "      video.setAttribute('playsinline', '');\n",
        "      video.onclick = () => { shutdown = true; };\n",
        "      stream = await navigator.mediaDevices.getUserMedia(\n",
        "          {video: { facingMode: \"environment\"}});\n",
        "      div.appendChild(video);\n",
        "\n",
        "      imgElement = document.createElement('img');\n",
        "      imgElement.style.position = 'absolute';\n",
        "      imgElement.style.zIndex = 1;\n",
        "      imgElement.onclick = () => { shutdown = true; };\n",
        "      div.appendChild(imgElement);\n",
        "      \n",
        "      const instruction = document.createElement('div');\n",
        "      instruction.innerHTML = '<span style=\"color: red; font-weight: bold;\">' + 'When finished, click here or on the video to stop this demo</span>';\n",
        "      div.appendChild(instruction);\n",
        "      instruction.onclick = () => { shutdown = true; };\n",
        "      \n",
        "      video.srcObject = stream;\n",
        "      await video.play();\n",
        "\n",
        "      captureCanvas = document.createElement('canvas');\n",
        "      captureCanvas.width = 720; //video width; 1280\n",
        "      captureCanvas.height = 720; //video height; 720\n",
        "      window.requestAnimationFrame(onAnimationFrame);\n",
        "      \n",
        "      return stream;\n",
        "    }\n",
        "    async function stream_frame(label, imgData) {\n",
        "      if (shutdown) {\n",
        "        removeDom();\n",
        "        shutdown = false;\n",
        "        return '';\n",
        "      }\n",
        "\n",
        "      var preCreate = Date.now();\n",
        "      stream = await createDom();\n",
        "      \n",
        "      var preShow = Date.now();\n",
        "      if (label != \"\") {\n",
        "        labelElement.innerHTML = label;\n",
        "      }\n",
        "            \n",
        "      if (imgData != \"\") {\n",
        "        var videoRect = video.getClientRects()[0];\n",
        "        imgElement.style.top = videoRect.top + \"px\";\n",
        "        imgElement.style.left = videoRect.left + \"px\";\n",
        "        imgElement.style.width = videoRect.width + \"px\";\n",
        "        imgElement.style.height = videoRect.height + \"px\";\n",
        "        imgElement.src = imgData;\n",
        "      }\n",
        "      \n",
        "      var preCapture = Date.now();\n",
        "      var result = await new Promise(function(resolve, reject) {\n",
        "        pendingResolve = resolve;\n",
        "      });\n",
        "      shutdown = false;\n",
        "      \n",
        "      return {'create': preShow - preCreate, \n",
        "              'show': preCapture - preShow, \n",
        "              'capture': Date.now() - preCapture,\n",
        "              'img': result};\n",
        "    }\n",
        "    ''')\n",
        "\n",
        "  display(js)\n",
        "  \n",
        "def video_frame(label, bbox):\n",
        "  data = eval_js('stream_frame(\"{}\", \"{}\")'.format(label, bbox))\n",
        "  return data"
      ],
      "metadata": {
        "id": "jTpvCmAHeuCJ"
      },
      "execution_count": 5,
      "outputs": []
    },
    {
      "cell_type": "markdown",
      "source": [
        "## Face detection model implementations"
      ],
      "metadata": {
        "id": "e4m_f4VpszCH"
      }
    },
    {
      "cell_type": "markdown",
      "source": [
        "### Re-implementing face detection model, in case some unexpected changes were made in part A"
      ],
      "metadata": {
        "id": "Io0rL7MZJLDS"
      }
    },
    {
      "cell_type": "code",
      "execution_count": 6,
      "metadata": {
        "colab": {
          "base_uri": "https://localhost:8080/"
        },
        "id": "pu0FP7V35jQR",
        "outputId": "491d1435-f4a9-433f-d94b-8676568c765f"
      },
      "outputs": [
        {
          "output_type": "stream",
          "name": "stdout",
          "text": [
            "Running on device: cuda:0\n"
          ]
        }
      ],
      "source": [
        "device = torch.device('cuda:0' if torch.cuda.is_available() else 'cpu')\n",
        "print('Running on device: {}'.format(device))\n",
        "# currently using, for face detection\n",
        "mtcnn = MTCNN(keep_all=True, min_face_size=224, device=device)\n",
        "# A faster model\n",
        "mtcnn_fast = FastMTCNN(keep_all=True, min_face_size=224, device=device,stride=4)"
      ]
    },
    {
      "cell_type": "markdown",
      "source": [
        "### Turning on webcam, start real-time ID recognition"
      ],
      "metadata": {
        "id": "tpzpKIe6JYuj"
      }
    },
    {
      "cell_type": "code",
      "source": [
        "model = torch.load(\"/content/GaussianMixtureAlex_128_0.0001_50\")"
      ],
      "metadata": {
        "id": "qJn3xQ088330"
      },
      "execution_count": 11,
      "outputs": []
    },
    {
      "cell_type": "code",
      "execution_count": 12,
      "metadata": {
        "id": "1nkSnkbkk4cC",
        "colab": {
          "base_uri": "https://localhost:8080/",
          "height": 17
        },
        "outputId": "495066b4-8593-4bf5-a523-f3f12791b72a"
      },
      "outputs": [
        {
          "output_type": "display_data",
          "data": {
            "text/plain": [
              "<IPython.core.display.Javascript object>"
            ],
            "application/javascript": [
              "\n",
              "    var video;\n",
              "    var div = null;\n",
              "    var stream;\n",
              "    var captureCanvas;\n",
              "    var imgElement;\n",
              "    var labelElement;   \n",
              "    var pendingResolve = null;\n",
              "    var shutdown = false;\n",
              "    \n",
              "    function removeDom() {\n",
              "       stream.getVideoTracks()[0].stop();\n",
              "       video.remove();\n",
              "       div.remove();\n",
              "       video = null;\n",
              "       div = null;\n",
              "       stream = null;\n",
              "       imgElement = null;\n",
              "       captureCanvas = null;\n",
              "       labelElement = null;\n",
              "    }\n",
              "    \n",
              "    function onAnimationFrame() {\n",
              "      if (!shutdown) {\n",
              "        window.requestAnimationFrame(onAnimationFrame);\n",
              "      }\n",
              "      if (pendingResolve) {\n",
              "        var result = \"\";\n",
              "        if (!shutdown) {\n",
              "          captureCanvas.getContext('2d').drawImage(video, 0, 0, 720, 720);\n",
              "          result = captureCanvas.toDataURL('image/jpeg', 0.8)\n",
              "        }\n",
              "        var lp = pendingResolve;\n",
              "        pendingResolve = null;\n",
              "        lp(result);\n",
              "      }\n",
              "    }\n",
              "    \n",
              "    async function createDom() {\n",
              "      if (div !== null) {\n",
              "        return stream;\n",
              "      }\n",
              "\n",
              "      div = document.createElement('div');\n",
              "      div.style.border = '2px solid black';\n",
              "      div.style.padding = '3px';\n",
              "      div.style.width = '100%';\n",
              "      div.style.maxWidth = '600px';\n",
              "      document.body.appendChild(div);\n",
              "      \n",
              "      const modelOut = document.createElement('div');\n",
              "      modelOut.innerHTML = \"<span>Status:</span>\";\n",
              "      labelElement = document.createElement('span');\n",
              "      labelElement.innerText = 'No data';\n",
              "      labelElement.style.fontWeight = 'bold';\n",
              "      modelOut.appendChild(labelElement);\n",
              "      div.appendChild(modelOut);\n",
              "           \n",
              "      video = document.createElement('video');\n",
              "      video.style.display = 'block';\n",
              "      video.width = div.clientWidth - 6;\n",
              "      video.setAttribute('playsinline', '');\n",
              "      video.onclick = () => { shutdown = true; };\n",
              "      stream = await navigator.mediaDevices.getUserMedia(\n",
              "          {video: { facingMode: \"environment\"}});\n",
              "      div.appendChild(video);\n",
              "\n",
              "      imgElement = document.createElement('img');\n",
              "      imgElement.style.position = 'absolute';\n",
              "      imgElement.style.zIndex = 1;\n",
              "      imgElement.onclick = () => { shutdown = true; };\n",
              "      div.appendChild(imgElement);\n",
              "      \n",
              "      const instruction = document.createElement('div');\n",
              "      instruction.innerHTML = '<span style=\"color: red; font-weight: bold;\">' + 'When finished, click here or on the video to stop this demo</span>';\n",
              "      div.appendChild(instruction);\n",
              "      instruction.onclick = () => { shutdown = true; };\n",
              "      \n",
              "      video.srcObject = stream;\n",
              "      await video.play();\n",
              "\n",
              "      captureCanvas = document.createElement('canvas');\n",
              "      captureCanvas.width = 720; //video width; 1280\n",
              "      captureCanvas.height = 720; //video height; 720\n",
              "      window.requestAnimationFrame(onAnimationFrame);\n",
              "      \n",
              "      return stream;\n",
              "    }\n",
              "    async function stream_frame(label, imgData) {\n",
              "      if (shutdown) {\n",
              "        removeDom();\n",
              "        shutdown = false;\n",
              "        return '';\n",
              "      }\n",
              "\n",
              "      var preCreate = Date.now();\n",
              "      stream = await createDom();\n",
              "      \n",
              "      var preShow = Date.now();\n",
              "      if (label != \"\") {\n",
              "        labelElement.innerHTML = label;\n",
              "      }\n",
              "            \n",
              "      if (imgData != \"\") {\n",
              "        var videoRect = video.getClientRects()[0];\n",
              "        imgElement.style.top = videoRect.top + \"px\";\n",
              "        imgElement.style.left = videoRect.left + \"px\";\n",
              "        imgElement.style.width = videoRect.width + \"px\";\n",
              "        imgElement.style.height = videoRect.height + \"px\";\n",
              "        imgElement.src = imgData;\n",
              "      }\n",
              "      \n",
              "      var preCapture = Date.now();\n",
              "      var result = await new Promise(function(resolve, reject) {\n",
              "        pendingResolve = resolve;\n",
              "      });\n",
              "      shutdown = false;\n",
              "      \n",
              "      return {'create': preShow - preCreate, \n",
              "              'show': preCapture - preShow, \n",
              "              'capture': Date.now() - preCapture,\n",
              "              'img': result};\n",
              "    }\n",
              "    "
            ]
          },
          "metadata": {}
        }
      ],
      "source": [
        "from torch.functional import Tensor\n",
        "video_stream()\n",
        "label_html = 'Capturing Video...'\n",
        "bbox = ''\n",
        "while True:\n",
        "    js_reply = video_frame(label_html, bbox)\n",
        "    if not js_reply:\n",
        "        break\n",
        "    \n",
        "    img = js_to_image(js_reply[\"img\"])                            #Calling helper method to convert JS response to OpenCV Image\n",
        "\n",
        "    rgb_img = cv2.cvtColor(img, cv2.COLOR_BGR2RGB)\n",
        "    #frame_fast = torch.from_numpy(rgb_img) \n",
        "    #frame_fast = torch.stack([frame_fast], dim=0)                #Prepared input frame for mtcnn_fast face detection model\n",
        "    frame = Image.fromarray(rgb_img)                              #Prepared input frame for mtcnn face detection model\n",
        "\n",
        "    faces, _ = mtcnn.detect(frame)                                #Return coordinates of faces from mtcnn model\n",
        "    #faces_fast = mtcnn_fast(frame_fast)                          #Higher throughput model, return captured face images, not coordinates.\n",
        "    #plt.imshow(faces_fast[0].detach().numpy(), cmap = 'gray')    #Displaying images only for developing, commented out in actual practice.\n",
        "    #plt.show()\n",
        "\n",
        "    bbox_array = np.zeros([720,720,4], dtype=np.uint8)            #Creating a transparent overlay for drawing bounding box\n",
        "\n",
        "    if faces is not None: \n",
        "      for (x,y,w,h) in faces:\n",
        "        x_w_diff = int(w-x)\n",
        "        y_h_diff = int(h-y)\n",
        "        if x_w_diff > 223. and y_h_diff >223.:                    #Size filtering, detected faces need to be clear enough (224 x 224)\n",
        "          x_w_mid = int(x+(w-x)/2)                                #Finding the middle point along the x-axis\n",
        "          y_h_mid = int(y+(h-y)/2)                                #Finding the middle point along the y-axis\n",
        "          selected_x = x_w_mid - 140\n",
        "          selected_w = x_w_mid + 140\n",
        "          selected_y = y_h_mid - 260\n",
        "          selected_h = y_h_mid + 20                               \n",
        " \n",
        "          selected_img = img[selected_y:selected_h, selected_x:selected_w, :]  #Adjustment for cropping the correct face images.\n",
        "\n",
        "          try:\n",
        "            faces = Image.fromarray(selected_img).resize((224,224))\n",
        "          except:\n",
        "            label_html = \"Move face to the center\"\n",
        "            continue\n",
        "    \n",
        "          gray_img = cv2.cvtColor(np.array(faces), cv2.COLOR_RGB2GRAY)\n",
        "          #plt.imshow(gray_img, cmap = 'gray')                                 #Displaying face images during developing, commented out in actual practice\n",
        "          #plt.show()\n",
        "          \n",
        "          input_for_face_recognition = torch.from_numpy(gray_img) \n",
        "          input_for_face_recognition = torch.stack([input_for_face_recognition], dim=0) #Prepared input in tensor format, Ready for our ID detection model\n",
        "          \n",
        "\n",
        "          # Facial identification process will be placed here\n",
        "\n",
        "          transform = transforms.Compose([transforms.Resize((224, 224)),\n",
        "                # transforms.RandomHorizontalFlip(),  # flip images\n",
        "                transforms.ToTensor(),\n",
        "                transforms.Normalize(mean=[0.5, 0.5, 0.5], std=[0.5, 0.5, 0.5]),])\n",
        "\n",
        "          faces = transform(faces)\n",
        "\n",
        "          alexnet = torchvision.models.alexnet(pretrained=True)\n",
        "\n",
        "          grey_images = torchvision.transforms.Grayscale()(faces)\n",
        "\n",
        "          imgs = torch.tensor(np.tile(grey_images, [1,3,1,1]))\n",
        "          \n",
        "          imgs = alexnet.features(imgs)\n",
        "          if use_cuda and torch.cuda.is_available():\n",
        "            imgs = imgs.cuda()\n",
        "          #############################################\n",
        "\n",
        "          mean, var = model(imgs)\n",
        "\n",
        "          confidence = nn.Softmax(dim=1)(mean)\n",
        "\n",
        "          confidence = torch.max(confidence)\n",
        "\n",
        "           #select index with maximum prediction score\n",
        "          pred = torch.argmax(mean, dim=1)\n",
        "          pred = pred.cpu().detach().numpy()\n",
        "          name_dict = {0: 'Bob', 1: 'DYY', 2: 'HYL', 3: 'JCL', 4: 'LD', 5: 'ML', 6: 'Roy', 7: 'Ruihua Qiao', 8: 'Starlord', 9: 'WPL', 10: 'Chen Zhao', 11: 'Zijian Chen'}\n",
        "          pred_name = name_dict[pred[0]]\n",
        "          result = pred_name  # + \" Confidence {}  Uncertainty {}\".format(str(confidence.cpu().detach()) ,var[0][pred[0]])\n",
        "          # print(result)\n",
        "          label_html = result\n",
        "\n",
        "          box_height = (w,int(h-(20)))                                           #Adjusting the size of the bounding box to indicate detected faces.\n",
        "          bbox_array = cv2.rectangle(bbox_array,(x,y), box_height, (0,255,0), 2) #Bounding box size and colour\n",
        "      bbox_array[:,:,3] = (bbox_array.max(axis = 2) > 0 ).astype(int) * 255  \n",
        "      bbox_bytes = bbox_to_bytes(bbox_array)                                     # converting overlay of bbox into bytes  \n",
        "      bbox =bbox_bytes                                                           # update bbox for the next frame  "
      ]
    },
    {
      "cell_type": "code",
      "source": [
        "%%shell\n",
        "jupyter nbconvert --to html Project_Face_detection.ipynb"
      ],
      "metadata": {
        "id": "3uKX1qnj0HVW"
      },
      "execution_count": null,
      "outputs": []
    },
    {
      "cell_type": "markdown",
      "source": [
        "##Plot"
      ],
      "metadata": {
        "id": "QEX-P3SwwJfb"
      }
    },
    {
      "cell_type": "code",
      "source": [
        "transform = transforms.Compose([transforms.Resize((224, 224)),\n",
        "                    # transforms.RandomHorizontalFlip(),  # flip images\n",
        "                    transforms.ToTensor(),\n",
        "                    transforms.Normalize(mean=[0.5, 0.5, 0.5], std=[0.5, 0.5, 0.5]),])\n",
        "\n",
        "sample_dataset = datasets.ImageFolder(root = \"/content/drive/MyDrive/ut/MIE1517_group_project/sample\", transform=transform)\n",
        "\n",
        "sample_dataloader = torch.utils.data.DataLoader(sample_dataset, batch_size=1)\n"
      ],
      "metadata": {
        "id": "_nvkdZDtlhmR"
      },
      "execution_count": null,
      "outputs": []
    },
    {
      "cell_type": "code",
      "source": [
        "for imgs, labels in sample_dataloader:\n",
        "\n",
        "  alexnet = torchvision.models.alexnet(pretrained=True)\n",
        "\n",
        "  # imgs = torch.tensor(np.tile(imgs, [1,3,1,1]))\n",
        "  print(imgs.shape)\n",
        "\n",
        "  imgs = alexnet.features(imgs)\n",
        "  if use_cuda and torch.cuda.is_available():\n",
        "    imgs = imgs.cuda()\n",
        "  #############################################\n",
        "\n",
        "  mean, var = model(imgs)"
      ],
      "metadata": {
        "colab": {
          "base_uri": "https://localhost:8080/"
        },
        "id": "RLfuLeIPmMrN",
        "outputId": "b558cc1e-9da0-4431-b021-0d992e9ce910"
      },
      "execution_count": null,
      "outputs": [
        {
          "output_type": "stream",
          "name": "stdout",
          "text": [
            "torch.Size([1, 3, 224, 224])\n"
          ]
        }
      ]
    },
    {
      "cell_type": "code",
      "source": [
        "from scipy.special import softmax\n",
        "softmax(mean.cpu().detach())"
      ],
      "metadata": {
        "id": "pTS_IgUFwN5T"
      },
      "execution_count": null,
      "outputs": []
    },
    {
      "cell_type": "code",
      "source": [
        "import matplotlib.pyplot as plt\n",
        "from sklearn.datasets import make_classification\n",
        "from sklearn.metrics import confusion_matrix, ConfusionMatrixDisplay\n",
        "from sklearn.model_selection import train_test_split\n",
        "\n",
        "true_label_ls = []\n",
        "\n",
        "pred_ls = []\n",
        "\n",
        "alexnet = torchvision.models.alexnet(pretrained=True)\n",
        "\n",
        "for imgs, labels in iter(val_loader):\n",
        "\n",
        "    grey_images = torchvision.transforms.Grayscale()(imgs)\n",
        "\n",
        "    imgs = torch.tensor(np.tile(grey_images, [1,3,1,1]))\n",
        "\n",
        "    imgs = alexnet.features(imgs)\n",
        "\n",
        "    if use_cuda and torch.cuda.is_available():\n",
        "      imgs = imgs.cuda()\n",
        "    #############################################\n",
        "    \n",
        "    mean, var = model(imgs)\n",
        "    \n",
        "    #select index with maximum prediction score\n",
        "\n",
        "    pred = torch.argmax(mean.cpu().detach(), dim=1)\n",
        "\n",
        "    true_label_ls = np.array([*true_label_ls, *labels])\n",
        "\n",
        "    pred_ls = np.array([*pred_ls, *pred.tolist()])\n",
        "\n",
        "\n",
        "\n",
        "inv_map = {v: k for k, v in data.class_to_idx.items()}\n",
        "\n",
        "true_label_ls = [inv_map[i] for i in true_label_ls]\n",
        "\n",
        "pred_ls = [inv_map[i] for i in pred_ls]\n",
        "\n",
        "cm = confusion_matrix(true_label_ls, pred_ls, labels=list(data.class_to_idx.keys()))\n",
        "disp = ConfusionMatrixDisplay(confusion_matrix=cm, display_labels=list(data.class_to_idx.keys()))\n",
        "\n",
        "disp.plot()\n",
        "plt.rcParams[\"figure.figsize\"] = (20,20)\n",
        "plt.show()"
      ],
      "metadata": {
        "colab": {
          "base_uri": "https://localhost:8080/",
          "height": 580
        },
        "id": "GKmUsWHZe05R",
        "outputId": "7127418c-8547-486f-dfca-7ed0363c17b6"
      },
      "execution_count": null,
      "outputs": [
        {
          "output_type": "display_data",
          "data": {
            "text/plain": [
              "<Figure size 720x720 with 2 Axes>"
            ],
            "image/png": "[encoded data removed]"
          },
          "metadata": {
            "needs_background": "light"
          }
        }
      ]
    },
    {
      "cell_type": "code",
      "source": [
        "torch.argmax(mean, dim=1)"
      ],
      "metadata": {
        "colab": {
          "base_uri": "https://localhost:8080/"
        },
        "id": "PjmLko-WpUxu",
        "outputId": "13c79bee-404a-4a1e-9fed-ead53aa99e67"
      },
      "execution_count": null,
      "outputs": [
        {
          "output_type": "execute_result",
          "data": {
            "text/plain": [
              "tensor([10], device='cuda:0')"
            ]
          },
          "metadata": {},
          "execution_count": 114
        }
      ]
    },
    {
      "cell_type": "code",
      "source": [
        "# plot roc curve\n",
        "\n",
        "# import numpy as np\n",
        "# import matplotlib.pyplot as plt\n",
        "# from itertools import cycle\n",
        "\n",
        "# from sklearn import svm, datasets\n",
        "# from sklearn.metrics import roc_curve, auc\n",
        "# from sklearn.model_selection import train_test_split\n",
        "# from sklearn.preprocessing import label_binarize\n",
        "# from sklearn.multiclass import OneVsRestClassifier\n",
        "# from sklearn.metrics import roc_auc_score\n",
        "\n",
        "# true_label_ls = []\n",
        "\n",
        "# pred_score_ls = []\n",
        "\n",
        "# alexnet = torchvision.models.alexnet(pretrained=True)\n",
        "\n",
        "# for imgs, labels in iter(val_loader):\n",
        "\n",
        "#     grey_images = torchvision.transforms.Grayscale()(imgs)\n",
        "\n",
        "#     imgs = torch.tensor(np.tile(grey_images, [1,3,1,1]))\n",
        "\n",
        "#     imgs = alexnet.features(imgs)\n",
        "\n",
        "#     if use_cuda and torch.cuda.is_available():\n",
        "#       imgs = imgs.cuda()\n",
        "#     #############################################\n",
        "    \n",
        "#     mean, var = model(imgs)\n",
        "    \n",
        "#     #select index with maximum prediction score\n",
        "\n",
        "#     # pred_score = torch.max(mean.cpu().detach(), dim=1)[0]\n",
        "\n",
        "#     labels = OneHotEncoder(labels)\n",
        "\n",
        "#     true_label_ls = np.array([*true_label_ls, *labels])\n",
        "\n",
        "#     pred_score_ls = np.array([*pred_score_ls, *mean.cpu().detach().tolist()])\n",
        "\n",
        "# fpr = dict()\n",
        "# tpr = dict()\n",
        "# roc_auc = dict()\n",
        "# for i in range(12):\n",
        "#     fpr[i], tpr[i], _ = roc_curve(true_label_ls[:, i], pred_score_ls[:, i])\n",
        "#     roc_auc[i] = auc(fpr[i], tpr[i])\n",
        "\n",
        "# # Compute micro-average ROC curve and ROC area\n",
        "# fpr[\"micro\"], tpr[\"micro\"], _ = roc_curve(true_label_ls.ravel(), pred_score_ls.ravel())\n",
        "# roc_auc[\"micro\"] = auc(fpr[\"micro\"], tpr[\"micro\"])\n",
        "\n",
        "# plt.figure()\n",
        "# lw = 2\n",
        "# plt.plot(\n",
        "#     fpr[2],\n",
        "#     tpr[2],\n",
        "#     color=\"darkorange\",\n",
        "#     lw=lw,\n",
        "#     label=\"ROC curve (area = %0.2f)\" % roc_auc[2],\n",
        "# )\n",
        "# plt.plot([0, 1], [0, 1], color=\"navy\", lw=lw, linestyle=\"--\")\n",
        "# plt.xlim([0.0, 1.0])\n",
        "# plt.ylim([0.0, 1.05])\n",
        "# plt.xlabel(\"False Positive Rate\")\n",
        "# plt.ylabel(\"True Positive Rate\")\n",
        "# plt.title(\"Receiver operating characteristic example\")\n",
        "# plt.legend(loc=\"lower right\")\n",
        "# plt.show()"
      ],
      "metadata": {
        "id": "60IAQmLhT25f"
      },
      "execution_count": null,
      "outputs": []
    }
  ]
}