{
 "nbformat": 4,
 "nbformat_minor": 0,
 "metadata": {
  "colab": {
   "name": "Project_Face_detection_ensembled.ipynb",
   "provenance": [],
   "collapsed_sections": []
  },
  "kernelspec": {
   "name": "python3",
   "display_name": "Python 3"
  },
  "language_info": {
   "name": "python"
  },
  "accelerator": "GPU"
 },
 "cells": [
  {
   "cell_type": "markdown",
   "source": [
    "# Real-time face detection & ID identification model for fast check-in."
   ],
   "metadata": {
    "id": "LyPFo1Fgm8IG"
   }
  },
  {
   "cell_type": "markdown",
   "source": [
    "# Install necessary packages"
   ],
   "metadata": {
    "id": "IHS87y3cnSFr"
   }
  },
  {
   "cell_type": "code",
   "execution_count": 1,
   "metadata": {
    "colab": {
     "base_uri": "https://localhost:8080/"
    },
    "id": "FyYCOhA9ei9M",
    "outputId": "1deea0f9-8a6a-4e9b-d31d-9d0a6dc8c3c6"
   },
   "outputs": [],
   "source": [
    "# %%shell\n",
    "# pip install facenet-pytorch\n",
    "# pip install mmcv"
   ]
  },
  {
   "cell_type": "markdown",
   "source": [
    "# Import Dependencies"
   ],
   "metadata": {
    "id": "S2mPaeV6naPG"
   }
  },
  {
   "cell_type": "code",
   "source": [
    "from IPython.display import Javascript, Image\n",
    "from IPython import display as dis\n",
    "# from google.colab.output import eval_js\n",
    "from base64 import b64decode, b64encode\n",
    "import numpy as np\n",
    "import io\n",
    "import html\n",
    "import time\n",
    "from IPython.core.display import Video\n",
    "from facenet_pytorch import MTCNN\n",
    "import torch\n",
    "import mmcv, cv2\n",
    "import PIL\n",
    "from PIL import Image, ImageDraw\n",
    "import matplotlib.pyplot as plt\n",
    "# from google.colab import files\n",
    "# from google.colab import drive\n",
    "import os\n",
    "from os import listdir\n",
    "from os.path import isfile, join\n",
    "import re\n",
    "import shutil\n",
    "import torch.nn as nn\n",
    "import torch.nn.functional as F\n",
    "import torchvision\n",
    "from torch.utils.data.sampler import SubsetRandomSampler\n",
    "from torchvision import datasets, transforms\n",
    "import torch.optim as optim\n",
    "from tqdm import tqdm\n",
    "# from skimage.morphology import disk\n",
    "# from skimage.filters.rank import autolevel\n",
    "from torch.autograd import Variable\n",
    "\n",
    "use_cuda = True\n",
    "\n",
    "# drive.mount('/content/drive')"
   ],
   "metadata": {
    "id": "SBvpY_rdeoLV",
    "colab": {
     "base_uri": "https://localhost:8080/"
    },
    "outputId": "a9c69560-411e-4201-aace-0342ef0fbb73"
   },
   "execution_count": 3,
   "outputs": []
  },
  {
   "cell_type": "code",
   "source": [
    "class FastMTCNN(object):\n",
    "    \"\"\"Fast MTCNN implementation.\"\"\"\n",
    "    \n",
    "    def __init__(self, stride, resize=1, *args, **kwargs):\n",
    "        \"\"\"Constructor for FastMTCNN class.\n",
    "        \n",
    "        Arguments:\n",
    "            stride (int): The detection stride. Faces will be detected every `stride` frames\n",
    "                and remembered for `stride-1` frames.\n",
    "        \n",
    "        Keyword arguments:\n",
    "            resize (float): Fractional frame scaling. [default: {1}]\n",
    "            *args: Arguments to pass to the MTCNN constructor. See help(MTCNN).\n",
    "            **kwargs: Keyword arguments to pass to the MTCNN constructor. See help(MTCNN).\n",
    "        \"\"\"\n",
    "        self.stride = stride\n",
    "        self.resize = resize\n",
    "        self.mtcnn = MTCNN(*args, **kwargs)\n",
    "        \n",
    "    def __call__(self, frames):\n",
    "        \"\"\"Detect faces in frames using strided MTCNN.\"\"\"\n",
    "        if self.resize != 1:\n",
    "            frames = [\n",
    "                cv2.resize(f, (int(f.shape[1] * self.resize), int(f.shape[0] * self.resize)))\n",
    "                    for f in frames\n",
    "            ]\n",
    "                      \n",
    "        boxes, probs = self.mtcnn.detect(frames[::self.stride])\n",
    "\n",
    "        faces = []\n",
    "        for i, frame in enumerate(frames):\n",
    "            box_ind = int(i / self.stride)\n",
    "            if boxes[box_ind] is None:\n",
    "                continue\n",
    "            for box in boxes[box_ind]:\n",
    "                box = [int(b) for b in box]\n",
    "                faces.append(frame[box[1]:box[3], box[0]:box[2]])\n",
    "        \n",
    "        return faces"
   ],
   "metadata": {
    "id": "jyiKcDvYAV_l"
   },
   "execution_count": 4,
   "outputs": []
  },
  {
   "cell_type": "code",
   "source": [
    "device = torch.device('cuda:0' if torch.cuda.is_available() else 'cpu')\n",
    "print('Running on device: {}'.format(device))\n",
    "# currently using, for face detection\n",
    "mtcnn = MTCNN(keep_all=True, min_face_size=224, device=device)\n",
    "# A faster model, for future performance improvment \n",
    "mtcnn_fast = FastMTCNN(keep_all=True, min_face_size=224, device=device,stride=4)"
   ],
   "metadata": {
    "id": "S5WwCg6O7Uwb",
    "colab": {
     "base_uri": "https://localhost:8080/"
    },
    "outputId": "88ad9550-4cd1-41d3-a5d2-e08c57c9b28b"
   },
   "execution_count": 5,
   "outputs": [
    {
     "name": "stdout",
     "output_type": "stream",
     "text": [
      "Running on device: cuda:0\n"
     ]
    }
   ]
  },
  {
   "cell_type": "markdown",
   "source": [
    "# Part A: Extracting training data from input videos."
   ],
   "metadata": {
    "id": "H6LqwC-MdH67"
   }
  },
  {
   "cell_type": "code",
   "source": [
    "# uploaded_video = files.upload() # For uploading training video to colab, click cancel if have no file to upload\n",
    "# user_name = \"ROY\"          #User name of the above uploaded video"
   ],
   "metadata": {
    "colab": {
     "resources": {
      "http://localhost:8080/nbextensions/google.colab/files.js": {
       "data": "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",
       "ok": true,
       "headers": [
        [
         "content-type",
         "application/javascript"
        ]
       ],
       "status": 200,
       "status_text": ""
      }
     },
     "base_uri": "https://localhost:8080/",
     "height": 41
    },
    "id": "YGSswGlMdHFN",
    "outputId": "fe7411ba-480b-4847-cfd4-3f0102b9633d"
   },
   "execution_count": 6,
   "outputs": []
  },
  {
   "cell_type": "markdown",
   "source": [
    "## Frames extraction: Extract each frame of user face, save to google drive"
   ],
   "metadata": {
    "id": "i-2_5mK_EPI-"
   }
  },
  {
   "cell_type": "code",
   "source": [
    "user_name = \"Zijian\"          #User name of the above uploaded video\n",
    "video = mmcv.VideoReader('E:/Codes/1517Project/Dataset/FacialDataset/OriginalVideo/' + user_name + '/' + user_name + '2.mp4') # Select training video here\n",
    "frames = [Image.fromarray(cv2.cvtColor(frame, cv2.COLOR_BGR2RGB)) for frame in video] # Extracting frames from video\n",
    "frames_tracked = []\n",
    "path = 'E:/Codes/1517Project/Dataset/FacialDataset/ImageDataset/' + user_name  #Put in the output directory you want\n",
    "# os.mkdir(path)\n",
    "os.chdir(path)\n",
    "for i, frame in enumerate(frames):\n",
    "    print('\\rTracking frame: {}'.format(i + 1), end='')\n",
    "    img = np.array(frame)    \n",
    "    faces, _ = mtcnn.detect(frame)                                           # Return coordinates of faces from mtcnn model\n",
    "\n",
    "    if i%2==0:  # change this to adjust sampling rate\n",
    "\n",
    "        if faces is not None:\n",
    "            for (x,y,w,h) in faces:\n",
    "                x_w_diff = int(w-x)\n",
    "                y_h_diff = int(h-y)\n",
    "                if x_w_diff > 223. and y_h_diff >223.:\n",
    "                    x_w_mid = int(x+(w-x)/2)\n",
    "                    y_h_mid = int(y+(h-y)/2)\n",
    "                    selected_x = x_w_mid - 155\n",
    "                    selected_w = x_w_mid + 155\n",
    "                    selected_y = y_h_mid - 260\n",
    "                    selected_h = y_h_mid + 50\n",
    "                    selected_img = img[selected_y:selected_h, selected_x:selected_w, :] #Adjustment for cropping the correct face images.\n",
    "\n",
    "                    faces = Image.fromarray(selected_img).resize((224,224))             #Resizing the image to desired input size.\n",
    "\n",
    "                    gray_img = cv2.cvtColor(np.array(faces), cv2.COLOR_RGB2GRAY)        #Converting to Gray Scale images for training\n",
    "                    cv2.imwrite(user_name + str(i) + '.png', gray_img)\n",
    "                    #plt.imshow(gray_img, cmap = 'gray')                                #Displaying images only for developing, commented out in actual practice.\n",
    "                    #plt.show()\n",
    "    else:\n",
    "      continue\n",
    "          \n",
    "\n",
    "print('\\nDone')"
   ],
   "metadata": {
    "colab": {
     "base_uri": "https://localhost:8080/"
    },
    "id": "qFUoWZkXfN80",
    "outputId": "387cf36f-90f1-4506-8d3e-fa8c2248ef5d"
   },
   "execution_count": 49,
   "outputs": [
    {
     "name": "stdout",
     "output_type": "stream",
     "text": [
      "Tracking frame: 278\n",
      "Done\n"
     ]
    }
   ]
  },
  {
   "cell_type": "markdown",
   "source": [
    "## ID identification MODEL and TRAINING method CAN be placed below."
   ],
   "metadata": {
    "id": "xF_d-_BTJiS_"
   }
  },
  {
   "cell_type": "markdown",
   "source": [
    "We will use `ImageFolder` to load the categorical data. The label create by `ImageFolder` are integers begining from 0. We first see the correspondence of integer label to name label."
   ],
   "metadata": {
    "collapsed": false
   }
  },
  {
   "cell_type": "code",
   "execution_count": 46,
   "outputs": [
    {
     "name": "stdout",
     "output_type": "stream",
     "text": [
      "{'Bob': 0, 'DYY': 1, 'HYL': 2, 'JCL': 3, 'LD': 4, 'ML': 5, 'Roy': 6, 'Ruihua': 7, 'Starlord': 8, 'WPL': 9, 'ZC': 10, 'Zijian': 11}\n"
     ]
    }
   ],
   "source": [
    "### See Imagefolder label\n",
    "dataset_path = 'E:/Codes/1517Project/Dataset/FacialDataset/ImageDataset/'\n",
    "\n",
    "transform = transforms.Compose([transforms.Resize((224, 224)),  # (224, 224)\n",
    "                                    # transforms.RandomHorizontalFlip(),  # flip images\n",
    "                                    transforms.ToTensor(),\n",
    "                                    transforms.Normalize(mean=[0.5, 0.5, 0.5], std=[0.5, 0.5, 0.5]),])\n",
    "data = datasets.ImageFolder(root=dataset_path, transform=transform)\n",
    "print(data.class_to_idx)\n"
   ],
   "metadata": {
    "collapsed": false,
    "pycharm": {
     "name": "#%%\n"
    }
   }
  },
  {
   "cell_type": "code",
   "source": [
    "def split_data(dataset_path, batch_size=64):\n",
    "\n",
    "    transform = transforms.Compose([transforms.Resize((224, 224)),\n",
    "                    # transforms.RandomHorizontalFlip(),  # flip images\n",
    "                    transforms.ToTensor(),\n",
    "                    transforms.Normalize(mean=[0.5, 0.5, 0.5], std=[0.5, 0.5, 0.5]),])\n",
    "\n",
    "    training_dataset = datasets.ImageFolder(root = dataset_path, transform=transform)\n",
    "\n",
    "    # print(training_dataset.class_to_idx)\n",
    "\n",
    "    indices = list(range(len(training_dataset)))\n",
    "\n",
    "    np.random.shuffle(indices)\n",
    "\n",
    "    split_train_val = int(0.8 * len(indices))\n",
    "\n",
    "    train_indices, val_indices = indices[:split_train_val], indices[split_train_val:]\n",
    "\n",
    "    train_sampler = SubsetRandomSampler(train_indices)\n",
    "    val_sampler = SubsetRandomSampler(val_indices)\n",
    "\n",
    "    train_loader, val_loader = torch.utils.data.DataLoader(training_dataset, batch_size=batch_size, sampler=train_sampler), \\\n",
    "                  torch.utils.data.DataLoader(training_dataset, batch_size=batch_size, sampler=val_sampler)\n",
    "                    \n",
    "    return train_loader, val_loader"
   ],
   "metadata": {
    "id": "yQzI9XK5JsIw"
   },
   "execution_count": 47,
   "outputs": []
  },
  {
   "cell_type": "code",
   "execution_count": 48,
   "outputs": [
    {
     "data": {
      "text/plain": "<Figure size 432x288 with 32 Axes>",
      "image/png": "[encoded data removed]"
     },
     "metadata": {
      "needs_background": "light"
     },
     "output_type": "display_data"
    }
   ],
   "source": [
    "train_loader, val_loader = split_data(dataset_path, batch_size = 32)\n",
    "\n",
    "k = 0\n",
    "for images, labels in train_loader:\n",
    "    # since batch_size = 1, there is only 1 image in `images`\n",
    "    image = images[0]\n",
    "    # place the colour channel at the end, instead of at the beginning\n",
    "    img = np.transpose(image, [1, 2, 0])\n",
    "    # normalize pixel intensity values to [0, 1]\n",
    "    img = img / 2 + 0.5\n",
    "    plt.subplot(4, 8, k+1)\n",
    "    plt.axis('off')\n",
    "    plt.imshow(img)\n",
    "    k += 1\n",
    "    if k > 31:\n",
    "        plt.show()\n",
    "        break"
   ],
   "metadata": {
    "collapsed": false,
    "pycharm": {
     "name": "#%%\n"
    }
   }
  },
  {
   "cell_type": "code",
   "source": [
    "class AlexNetModel(nn.Module):\n",
    "\n",
    "    def __init__(self, outputs):\n",
    "        super(AlexNetModel, self).__init__()\n",
    "        self.name = 'AlexNetModel'\n",
    "        self.conv1 = nn.Conv2d(256, 30, 3)\n",
    "        self.pool = nn.MaxPool2d(2, 2)\n",
    "        self.fc1 = nn.Linear(120, 64)\n",
    "        self.fc2 = nn.Linear(64, outputs*2)\n",
    "        self.outputs = outputs\n",
    "\n",
    "    def forward(self, x):\n",
    "        x = self.pool(F.relu(self.conv1(x)))\n",
    "        x = x.view(-1, 120)\n",
    "        x = F.relu(self.fc1(x))\n",
    "        x = self.fc2(x)\n",
    "        mean, variance = torch.split(x, self.outputs, dim=1)\n",
    "        variance = F.softplus(variance) + 1e-6\n",
    "        return mean, variance\n"
   ],
   "metadata": {
    "id": "F7E6MnQJVY7E"
   },
   "execution_count": 21,
   "outputs": []
  },
  {
   "cell_type": "code",
   "source": [
    "class GaussianMixtureAlex(nn.Module):\n",
    "    \"\"\" Gaussian mixture MLP which outputs are mean and variance.\n",
    "\n",
    "    Attributes:\n",
    "        models (int): number of models\n",
    "        inputs (int): number of inputs\n",
    "        outputs (int): number of outputs\n",
    "        hidden_layers (list of ints): hidden layer sizes\n",
    "\n",
    "    \"\"\"\n",
    "    def __init__(self, num_models=5, outputs=1):\n",
    "        super(GaussianMixtureAlex, self).__init__()\n",
    "        self.name = 'GaussianMixtureAlex'\n",
    "        self.num_models = num_models\n",
    "        self.outputs = outputs\n",
    "        for i in range(self.num_models):\n",
    "            model = AlexNetModel(outputs=self.outputs)\n",
    "            setattr(self, 'model_'+str(i), model)\n",
    "            \n",
    "    def forward(self, x):\n",
    "        # connect layers\n",
    "        means = []\n",
    "        variances = []\n",
    "        for i in range(self.num_models):\n",
    "            model = getattr(self, 'model_' + str(i))\n",
    "            mean, var = model(x)\n",
    "            means.append(mean)\n",
    "            variances.append(var)\n",
    "        means = torch.stack(means)\n",
    "        mean = means.mean(dim=0)\n",
    "        variances = torch.stack(variances)\n",
    "        variance = (variances + means.pow(2)).mean(dim=0) - mean.pow(2)\n",
    "        return mean, variance "
   ],
   "metadata": {
    "id": "BbXE2d7CUJ9E"
   },
   "execution_count": 22,
   "outputs": []
  },
  {
   "cell_type": "code",
   "source": [
    "# function to save checkpoint\n",
    "\n",
    "def OneHotEncoder(ls, class_num = 12):\n",
    "  unique_ls = list(set(ls))\n",
    "  onehot_encoded = np.zeros((len(ls), class_num))\n",
    "  for i in range(len(ls)):\n",
    "    onehot_encoded[i][ls[i]] = 1\n",
    "  return onehot_encoded\n",
    "\n",
    "def save_checkpoint(model, batch_size, lr, epoch):\n",
    "  model_path = \"{}_{}_{}_{}\".format(model.name, batch_size, lr, epoch)\n",
    "  torch.save(model, model_path)\n",
    "  print('Checkpoint of {} has been stored successfully!',format(model_path))\n",
    "\n",
    "def NLLloss(y, mean, var):\n",
    "    \"\"\" Negative log-likelihood loss function. \"\"\"\n",
    "    return (torch.log(var) + ((y - mean).pow(2))/var).sum()\n",
    "\n",
    "def get_accuracy(model, data_loader, grey_images_flag = False):\n",
    "  correct = 0\n",
    "  total = 0\n",
    "\n",
    "  alexnet = torchvision.models.alexnet(pretrained=True)\n",
    "\n",
    "  for imgs, labels in data_loader:\n",
    "    #############################################\n",
    "    #To Enable GPU Usage\n",
    "\n",
    "    if grey_images_flag:\n",
    "\n",
    "      grey_images = torchvision.transforms.Grayscale()(imgs)\n",
    "\n",
    "      imgs = torch.tensor(np.tile(grey_images, [1,3,1,1]))\n",
    "\n",
    "    imgs = alexnet.features(imgs)\n",
    "\n",
    "    if use_cuda and torch.cuda.is_available():\n",
    "      imgs = imgs.cuda()\n",
    "      labels = labels.cuda()\n",
    "    #############################################\n",
    "    \n",
    "    mean, _ = model(imgs)\n",
    "    \n",
    "    #select index with maximum prediction score\n",
    "    pred = mean.max(1, keepdim=True)[1]\n",
    "    correct += pred.eq(labels.view_as(pred)).sum().item()\n",
    "    total += imgs.shape[0]\n",
    "  return correct / total\n",
    "\n",
    "def predict(model, data_loader, grey_images_flag = False):\n",
    "\n",
    "  alexnet = torchvision.models.alexnet(pretrained=True)\n",
    "\n",
    "  pred_ls, var_ls, std_ls = [], [], []\n",
    "\n",
    "  for imgs, _ in data_loader:\n",
    "    #############################################\n",
    "    #To Enable GPU Usage\n",
    "\n",
    "    if grey_images_flag:\n",
    "\n",
    "      grey_images = torchvision.transforms.Grayscale()(imgs)\n",
    "\n",
    "      imgs = torch.tensor(np.tile(grey_images, [1,3,1,1]))\n",
    "\n",
    "    imgs = alexnet.features(imgs)\n",
    "\n",
    "    if use_cuda and torch.cuda.is_available():\n",
    "      imgs = imgs.cuda()\n",
    "    #############################################\n",
    "    \n",
    "    mean, var = model(imgs)\n",
    "    \n",
    "    #select index with maximum prediction score\n",
    "    pred = torch.argmax(mean, dim=1)\n",
    "\n",
    "    pred = pred.cpu().detach().numpy()\n",
    "\n",
    "    var = var.cpu().detach().numpy()\n",
    "\n",
    "    variance = [var[i][val] for i, val in enumerate(pred)]\n",
    "\n",
    "    std = np.sqrt(variance)\n",
    "\n",
    "    pred_ls = [*pred_ls, *pred]\n",
    "\n",
    "    var_ls = [*var_ls, *variance]\n",
    "\n",
    "    std_ls = [*std_ls, *std]\n",
    "\n",
    "  return pred_ls, var_ls, std_ls\n",
    "\n",
    "\n",
    "def train(model, dataset_path, opt, batch_size = 64, learning_rate=0.01, epochs=30, grey_images_flag = False):\n",
    "\n",
    "  #############################################\n",
    "  # input: grey_images_flag: boolean if gray image conversion is needed\n",
    "  #############################################\n",
    "\n",
    "  train_loader, val_loader = split_data(dataset_path, batch_size = batch_size)\n",
    "\n",
    "  criterion = NLLloss\n",
    "\n",
    "  # criterion = nn.CrossEntropyLoss()\n",
    "\n",
    "  optimizer = opt(model.parameters(), lr=learning_rate)\n",
    "    \n",
    "  iters, losses, train_acc, val_acc = [], [], [], []\n",
    "  \n",
    "  alexnet = torchvision.models.alexnet(pretrained=True)\n",
    "\n",
    "  n = 0 # the number of iterations\n",
    "  for epoch in range(epochs):\n",
    "    for imgs, labels in iter(train_loader):\n",
    "\n",
    "      if grey_images_flag:\n",
    "\n",
    "        grey_images = torchvision.transforms.Grayscale()(imgs)\n",
    "\n",
    "        imgs = torch.tensor(np.tile(grey_images, [1,3,1,1]))\n",
    "\n",
    "      imgs = alexnet.features(imgs)\n",
    "\n",
    "      #############################################\n",
    "      #To Enable GPU Usage\n",
    "      if use_cuda and torch.cuda.is_available():\n",
    "        imgs = imgs.cuda()\n",
    "\n",
    "        one_hot_labels = torch.from_numpy(OneHotEncoder(labels))\n",
    "\n",
    "        labels = one_hot_labels.cuda()\n",
    "      #############################################\n",
    "  \n",
    "      mean, var = model(imgs) \n",
    "      # print(mean.shape)\n",
    "      # print(var.shape)\n",
    "      # print(labels.shape)\n",
    "\n",
    "      # output = model(imgs)\n",
    "\n",
    "      loss = NLLloss(labels, mean, var)\n",
    "\n",
    "      # loss = criterion(output, labels)\n",
    "\n",
    "      # loss = criterion(m(mean), labels)\n",
    "\n",
    "      loss.backward()\n",
    "      optimizer.step()\n",
    "      optimizer.zero_grad()\n",
    "\n",
    "    # save the current training information\n",
    "    iters.append(n)\n",
    "    losses.append(float(loss)/batch_size)\n",
    "    train_acc.append(get_accuracy(model, train_loader, grey_images_flag = grey_images_flag))\n",
    "    val_acc.append(get_accuracy(model, val_loader, grey_images_flag = grey_images_flag))\n",
    "    print('Epoch{}, Train acc: {} | Val acc: {} '\n",
    "              .format(epoch + 1, \"%.5f\" % train_acc[-1], \"%.5f\" % val_acc[-1]))\n",
    "    n += 1\n",
    "      \n",
    "    if ((epoch+1) % 25 == 0):\n",
    "      save_checkpoint(model, batch_size, learning_rate, epoch+1)\n",
    "\n",
    "  # plotting\n",
    "  plt.title(\"Training Curve\")\n",
    "  plt.plot(iters, losses, label=\"Train\")\n",
    "  plt.xlabel(\"Iterations\")\n",
    "  plt.ylabel(\"Loss\")\n",
    "  plt.show()\n",
    "\n",
    "  plt.title(\"Training Curve\")\n",
    "  plt.plot(iters, train_acc, label=\"Train\")\n",
    "  plt.plot(iters, val_acc, label=\"Validation\")\n",
    "  plt.xlabel(\"Iterations\")\n",
    "  plt.ylabel(\"Training Accuracy\")\n",
    "  plt.legend(loc='best')\n",
    "  plt.show()\n",
    "\n",
    "  print(\"Final Training Accuracy: {}\".format(train_acc[-1]))\n",
    "  print(\"Final Validation Accuracy: {}\".format(val_acc[-1]))"
   ],
   "metadata": {
    "id": "6HqngQ4wVjgq"
   },
   "execution_count": 23,
   "outputs": []
  },
  {
   "cell_type": "code",
   "source": [
    "class_num = 12\n",
    "\n",
    "model = GaussianMixtureAlex(outputs = class_num)\n",
    "\n",
    "data_path = 'E:/Codes/1517Project/Dataset/FacialDataset/ImageDataset/'\n",
    "\n",
    "\n",
    "if use_cuda and torch.cuda.is_available():\n",
    "  model.cuda()\n",
    "  print('CUDA is available!  Training on GPU ...')\n",
    "else:\n",
    "  print('CUDA is not available.  Training on CPU ...')\n",
    "  \n",
    "train(model, data_path, opt = optim.Adam, batch_size = 128, learning_rate=0.0001, epochs=50, grey_images_flag = True)"
   ],
   "metadata": {
    "colab": {
     "base_uri": "https://localhost:8080/",
     "height": 414
    },
    "id": "PRfl6tg9WMDe",
    "outputId": "f6ee8c92-8219-4841-b31d-e715dfd93218"
   },
   "execution_count": 24,
   "outputs": [
    {
     "name": "stdout",
     "output_type": "stream",
     "text": [
      "CUDA is available!  Training on GPU ...\n",
      "Epoch1, Train acc: 0.24747 | Val acc: 0.25000 \n",
      "Epoch2, Train acc: 0.51150 | Val acc: 0.51471 \n",
      "Epoch3, Train acc: 0.59522 | Val acc: 0.57721 \n",
      "Epoch4, Train acc: 0.59154 | Val acc: 0.56250 \n",
      "Epoch5, Train acc: 0.77737 | Val acc: 0.75368 \n",
      "Epoch6, Train acc: 0.95492 | Val acc: 0.92279 \n",
      "Epoch7, Train acc: 0.99724 | Val acc: 1.00000 \n",
      "Epoch8, Train acc: 0.99724 | Val acc: 1.00000 \n",
      "Epoch9, Train acc: 0.99724 | Val acc: 1.00000 \n",
      "Epoch10, Train acc: 0.99816 | Val acc: 1.00000 \n",
      "Epoch11, Train acc: 0.99816 | Val acc: 1.00000 \n",
      "Epoch12, Train acc: 0.99908 | Val acc: 1.00000 \n",
      "Epoch13, Train acc: 0.99724 | Val acc: 1.00000 \n",
      "Epoch14, Train acc: 0.99908 | Val acc: 1.00000 \n",
      "Epoch15, Train acc: 0.99908 | Val acc: 1.00000 \n",
      "Epoch16, Train acc: 0.99908 | Val acc: 1.00000 \n",
      "Epoch17, Train acc: 0.99908 | Val acc: 1.00000 \n",
      "Epoch18, Train acc: 0.99908 | Val acc: 1.00000 \n",
      "Epoch19, Train acc: 0.99908 | Val acc: 1.00000 \n",
      "Epoch20, Train acc: 0.99908 | Val acc: 1.00000 \n",
      "Epoch21, Train acc: 0.99908 | Val acc: 1.00000 \n",
      "Epoch22, Train acc: 0.99908 | Val acc: 1.00000 \n",
      "Epoch23, Train acc: 0.99908 | Val acc: 1.00000 \n",
      "Epoch24, Train acc: 0.99908 | Val acc: 1.00000 \n",
      "Epoch25, Train acc: 0.99908 | Val acc: 1.00000 \n",
      "Checkpoint of {} has been stored successfully! GaussianMixtureAlex_128_0.0001_25\n",
      "Epoch26, Train acc: 0.99908 | Val acc: 1.00000 \n",
      "Epoch27, Train acc: 0.99908 | Val acc: 1.00000 \n",
      "Epoch28, Train acc: 0.99908 | Val acc: 1.00000 \n",
      "Epoch29, Train acc: 0.99816 | Val acc: 1.00000 \n",
      "Epoch30, Train acc: 0.99816 | Val acc: 1.00000 \n",
      "Epoch31, Train acc: 0.99816 | Val acc: 1.00000 \n",
      "Epoch32, Train acc: 0.99816 | Val acc: 1.00000 \n",
      "Epoch33, Train acc: 0.99908 | Val acc: 1.00000 \n",
      "Epoch34, Train acc: 0.99908 | Val acc: 1.00000 \n",
      "Epoch35, Train acc: 0.99908 | Val acc: 1.00000 \n",
      "Epoch36, Train acc: 0.99908 | Val acc: 1.00000 \n",
      "Epoch37, Train acc: 0.99908 | Val acc: 1.00000 \n",
      "Epoch38, Train acc: 0.99908 | Val acc: 1.00000 \n",
      "Epoch39, Train acc: 0.99908 | Val acc: 1.00000 \n",
      "Epoch40, Train acc: 0.99908 | Val acc: 1.00000 \n",
      "Epoch41, Train acc: 0.99908 | Val acc: 1.00000 \n",
      "Epoch42, Train acc: 0.99908 | Val acc: 1.00000 \n",
      "Epoch43, Train acc: 0.99908 | Val acc: 1.00000 \n",
      "Epoch44, Train acc: 0.99908 | Val acc: 1.00000 \n",
      "Epoch45, Train acc: 0.99908 | Val acc: 1.00000 \n",
      "Epoch46, Train acc: 0.99908 | Val acc: 1.00000 \n",
      "Epoch47, Train acc: 0.99908 | Val acc: 1.00000 \n",
      "Epoch48, Train acc: 0.99908 | Val acc: 1.00000 \n",
      "Epoch49, Train acc: 0.99908 | Val acc: 1.00000 \n",
      "Epoch50, Train acc: 0.99908 | Val acc: 1.00000 \n",
      "Checkpoint of {} has been stored successfully! GaussianMixtureAlex_128_0.0001_50\n"
     ]
    },
    {
     "data": {
      "text/plain": "<Figure size 432x288 with 1 Axes>",
      "image/png": "[encoded data removed]"
     },
     "metadata": {
      "needs_background": "light"
     },
     "output_type": "display_data"
    },
    {
     "data": {
      "text/plain": "<Figure size 432x288 with 1 Axes>",
      "image/png": "[encoded data removed]"
     },
     "metadata": {
      "needs_background": "light"
     },
     "output_type": "display_data"
    },
    {
     "name": "stdout",
     "output_type": "stream",
     "text": [
      "Final Training Accuracy: 0.9990800367985281\n",
      "Final Validation Accuracy: 1.0\n"
     ]
    }
   ]
  },
  {
   "cell_type": "code",
   "source": [
    "train_loader, val_loader = split_data(data_path, batch_size = 32)"
   ],
   "metadata": {
    "id": "mU4r7RS2SxQp",
    "colab": {
     "base_uri": "https://localhost:8080/"
    },
    "outputId": "6e510cda-9e74-475b-ec9b-23e22377ae4c"
   },
   "execution_count": 63,
   "outputs": []
  },
  {
   "cell_type": "code",
   "source": [
    "pred, variance, std = predict(model, val_loader, grey_images_flag = True)"
   ],
   "metadata": {
    "id": "qnSB6cMLWR2E"
   },
   "execution_count": 65,
   "outputs": [
    {
     "data": {
      "text/plain": "([5,\n  3,\n  3,\n  12,\n  12,\n  9,\n  3,\n  6,\n  12,\n  3,\n  5,\n  9,\n  3,\n  12,\n  0,\n  10,\n  2,\n  12,\n  4,\n  11,\n  1,\n  11,\n  0,\n  12,\n  12,\n  5,\n  8,\n  5,\n  8,\n  12,\n  3,\n  3,\n  12,\n  5,\n  8,\n  8,\n  8,\n  1,\n  3,\n  10,\n  3,\n  9,\n  1,\n  11,\n  9,\n  6,\n  6,\n  6,\n  9,\n  4,\n  8,\n  3,\n  11,\n  0,\n  5,\n  1,\n  2,\n  9,\n  4,\n  0,\n  2,\n  8,\n  7,\n  0,\n  11,\n  3,\n  7,\n  0,\n  7,\n  12,\n  11,\n  9,\n  2,\n  2,\n  10,\n  6,\n  8,\n  1,\n  3,\n  6,\n  8,\n  2,\n  1,\n  8,\n  3,\n  8,\n  9,\n  11,\n  2,\n  10,\n  2,\n  7,\n  1,\n  12,\n  12,\n  11,\n  0,\n  11,\n  12,\n  5,\n  8,\n  10,\n  7,\n  1,\n  1,\n  7,\n  2,\n  3,\n  4,\n  7,\n  1,\n  6,\n  12,\n  6,\n  1,\n  4,\n  7,\n  12,\n  10,\n  8,\n  9,\n  7,\n  1,\n  8,\n  6,\n  5,\n  5,\n  4,\n  3,\n  10,\n  6,\n  4,\n  11,\n  5,\n  12,\n  8,\n  7,\n  9,\n  6,\n  4,\n  1,\n  2,\n  1,\n  11,\n  6,\n  1,\n  12,\n  3,\n  7,\n  0,\n  12,\n  4,\n  11,\n  10,\n  6,\n  8,\n  8,\n  11,\n  6,\n  7,\n  11,\n  6,\n  11,\n  2,\n  1,\n  1,\n  3,\n  2,\n  3,\n  11,\n  8,\n  11,\n  0,\n  3,\n  8,\n  3,\n  3,\n  2,\n  12,\n  3,\n  9,\n  11,\n  2,\n  4,\n  3,\n  10,\n  12,\n  3,\n  3,\n  9,\n  11,\n  6,\n  12,\n  8,\n  8,\n  1,\n  3,\n  3,\n  4,\n  10,\n  2,\n  4,\n  7,\n  1,\n  12,\n  0,\n  11,\n  12,\n  0,\n  7,\n  6,\n  8,\n  5,\n  11,\n  8,\n  9,\n  3,\n  9,\n  7,\n  3,\n  6,\n  8,\n  11,\n  0,\n  11,\n  2,\n  2,\n  3,\n  10,\n  11,\n  12,\n  9,\n  12,\n  9,\n  5,\n  12,\n  6,\n  2,\n  4,\n  10,\n  11,\n  4,\n  4,\n  2,\n  12,\n  7,\n  1,\n  6,\n  4,\n  10,\n  12,\n  8,\n  3,\n  10,\n  11,\n  3,\n  6,\n  12,\n  6,\n  10,\n  1,\n  9,\n  1,\n  7,\n  1,\n  1,\n  5,\n  8,\n  12,\n  7,\n  9,\n  4,\n  9,\n  6,\n  4,\n  1,\n  3,\n  1,\n  1,\n  11,\n  1,\n  12,\n  1,\n  8,\n  1,\n  0,\n  0,\n  7,\n  1,\n  9,\n  10,\n  12,\n  5,\n  4,\n  3,\n  11],\n [0.26428977,\n  0.15126419,\n  0.20651221,\n  0.13744614,\n  0.16312316,\n  0.16440599,\n  0.17653783,\n  0.17061263,\n  0.23547143,\n  0.176594,\n  0.25043893,\n  0.16564585,\n  0.19134077,\n  0.19897717,\n  0.18726578,\n  0.21485743,\n  0.13446389,\n  0.14156497,\n  0.23184022,\n  0.07435663,\n  0.22182533,\n  0.07489211,\n  0.119852796,\n  0.22319001,\n  0.27206698,\n  0.3183172,\n  0.16695203,\n  0.13607034,\n  0.19329372,\n  0.24877241,\n  0.19120845,\n  0.107614726,\n  0.22661068,\n  0.17076756,\n  0.19306552,\n  0.2010316,\n  0.13043098,\n  0.11717635,\n  0.1019732,\n  0.18081723,\n  0.11881042,\n  0.11218524,\n  0.20095861,\n  0.111481786,\n  0.14947496,\n  0.15452239,\n  0.21199718,\n  0.10673131,\n  0.08051535,\n  0.119205736,\n  0.14645067,\n  0.19767296,\n  0.06160507,\n  0.19598854,\n  0.19510484,\n  0.3184799,\n  0.1662125,\n  0.16330566,\n  0.12371383,\n  0.19999675,\n  0.23352423,\n  0.14551692,\n  0.15470038,\n  0.21412604,\n  0.10331259,\n  0.09944149,\n  0.17859283,\n  0.15775698,\n  0.13687667,\n  0.1636469,\n  0.10408377,\n  0.17213312,\n  0.2126521,\n  0.13075547,\n  0.13424006,\n  0.117846385,\n  0.19974783,\n  0.2772792,\n  0.1073225,\n  0.114705145,\n  0.12462528,\n  0.14336005,\n  0.14879271,\n  0.14308144,\n  0.15961388,\n  0.17631742,\n  0.06596481,\n  0.13943772,\n  0.15482545,\n  0.14402688,\n  0.2726553,\n  0.16654377,\n  0.15585573,\n  0.16718659,\n  0.12760594,\n  0.12441856,\n  0.20931783,\n  0.12970771,\n  0.1597605,\n  0.26117072,\n  0.17843108,\n  0.1266838,\n  0.09885603,\n  0.11803888,\n  0.3093989,\n  0.14791767,\n  0.22326334,\n  0.24501173,\n  0.20380987,\n  0.09887504,\n  0.119376846,\n  0.12663805,\n  0.23039687,\n  0.14263512,\n  0.27340794,\n  0.09595536,\n  0.13041666,\n  0.15041406,\n  0.25458753,\n  0.1689079,\n  0.1647011,\n  0.119959906,\n  0.14355758,\n  0.20548457,\n  0.11357008,\n  0.13776009,\n  0.23555616,\n  0.19822428,\n  0.2141642,\n  0.19675831,\n  0.13942394,\n  0.13691707,\n  0.1047201,\n  0.23532493,\n  0.16257711,\n  0.14751491,\n  0.089199685,\n  0.038102284,\n  0.11900692,\n  0.15587261,\n  0.18220308,\n  0.25866646,\n  0.12869634,\n  0.090487786,\n  0.16439193,\n  0.20433663,\n  0.13141978,\n  0.1686908,\n  0.13495639,\n  0.1495845,\n  0.17747776,\n  0.1957478,\n  0.1294376,\n  0.15280108,\n  0.17414974,\n  0.19054401,\n  0.22599441,\n  0.11975129,\n  0.13648227,\n  0.12523574,\n  0.115263,\n  0.22163194,\n  0.10725525,\n  0.24101858,\n  0.14524011,\n  0.262594,\n  0.12267869,\n  0.14912602,\n  0.15237992,\n  0.13424715,\n  0.19572183,\n  0.11337137,\n  0.16957867,\n  0.08097982,\n  0.16105023,\n  0.1542321,\n  0.18536419,\n  0.1678893,\n  0.20552836,\n  0.14983687,\n  0.12413746,\n  0.09953499,\n  0.12032146,\n  0.183464,\n  0.24234521,\n  0.18494688,\n  0.13153142,\n  0.21060158,\n  0.10750439,\n  0.09754073,\n  0.14710091,\n  0.213619,\n  0.24374472,\n  0.16363272,\n  0.24161619,\n  0.17372139,\n  0.14257936,\n  0.081555024,\n  0.16348061,\n  0.16374838,\n  0.21674697,\n  0.19983634,\n  0.12832367,\n  0.26312256,\n  0.15130645,\n  0.21646506,\n  0.15023354,\n  0.23908474,\n  0.22079776,\n  0.105550386,\n  0.17880505,\n  0.19391242,\n  0.07051057,\n  0.09076104,\n  0.16665718,\n  0.13420187,\n  0.2125761,\n  0.09014784,\n  0.16264147,\n  0.13825455,\n  0.14952295,\n  0.14550416,\n  0.08234892,\n  0.18770558,\n  0.1278413,\n  0.16950947,\n  0.2597431,\n  0.14045843,\n  0.19697979,\n  0.10428938,\n  0.20565073,\n  0.14852478,\n  0.21416856,\n  0.14555717,\n  0.17851473,\n  0.23941317,\n  0.13194336,\n  0.14602283,\n  0.1279651,\n  0.20252591,\n  0.14543612,\n  0.21855056,\n  0.19369914,\n  0.13322648,\n  0.24629398,\n  0.12589315,\n  0.09903395,\n  0.13377206,\n  0.17910708,\n  0.094611555,\n  0.22988312,\n  0.14197855,\n  0.076209754,\n  0.13611731,\n  0.11210935,\n  0.19823214,\n  0.12080523,\n  0.105736956,\n  0.1738944,\n  0.15443334,\n  0.11602108,\n  0.15089466,\n  0.096344456,\n  0.11157564,\n  0.09146452,\n  0.23502432,\n  0.18451914,\n  0.19532439,\n  0.24099874,\n  0.09540779,\n  0.1512817,\n  0.10634178,\n  0.1247454,\n  0.16616341,\n  0.23624434,\n  0.19353193,\n  0.106608115,\n  0.1855501,\n  0.19570656,\n  0.12853298,\n  0.168484,\n  0.17977512,\n  0.17220913,\n  0.17040814,\n  0.14621618,\n  0.19333291,\n  0.21598937,\n  0.16922593,\n  0.11778016,\n  0.14405826,\n  0.0970875,\n  0.12783056,\n  0.21353212,\n  0.20303889,\n  0.21896535,\n  0.11833666],\n [0.5140912,\n  0.38892698,\n  0.45443615,\n  0.37073728,\n  0.4038851,\n  0.40547007,\n  0.42016405,\n  0.41305283,\n  0.485254,\n  0.4202309,\n  0.50043875,\n  0.40699613,\n  0.43742517,\n  0.44606858,\n  0.43274218,\n  0.46352717,\n  0.3666932,\n  0.3762512,\n  0.48149788,\n  0.27268413,\n  0.47098336,\n  0.27366424,\n  0.34619763,\n  0.4724299,\n  0.5216004,\n  0.56419605,\n  0.40859765,\n  0.36887714,\n  0.43965182,\n  0.4987709,\n  0.4372739,\n  0.32804683,\n  0.47603643,\n  0.4132403,\n  0.4393922,\n  0.44836548,\n  0.3611523,\n  0.3423103,\n  0.31933242,\n  0.4252261,\n  0.3446889,\n  0.33494064,\n  0.44828406,\n  0.3338889,\n  0.38661993,\n  0.39309335,\n  0.46043152,\n  0.3266976,\n  0.28375226,\n  0.34526184,\n  0.38268873,\n  0.44460428,\n  0.24820368,\n  0.44270593,\n  0.44170675,\n  0.56434023,\n  0.40769166,\n  0.40411094,\n  0.35172978,\n  0.44720995,\n  0.48324347,\n  0.3814668,\n  0.3933197,\n  0.46273753,\n  0.32142276,\n  0.31534344,\n  0.42260244,\n  0.39718634,\n  0.36996847,\n  0.40453294,\n  0.32262015,\n  0.41488928,\n  0.46114218,\n  0.36160126,\n  0.36638784,\n  0.34328762,\n  0.44693157,\n  0.52657306,\n  0.32760113,\n  0.3386815,\n  0.35302305,\n  0.37862918,\n  0.38573658,\n  0.3782611,\n  0.39951706,\n  0.41990167,\n  0.25683615,\n  0.3734136,\n  0.39347866,\n  0.37950873,\n  0.52216405,\n  0.40809774,\n  0.39478567,\n  0.40888456,\n  0.35721976,\n  0.35273015,\n  0.45751265,\n  0.36014956,\n  0.39970052,\n  0.5110486,\n  0.42241102,\n  0.3559267,\n  0.3144138,\n  0.34356788,\n  0.5562364,\n  0.38460067,\n  0.4725075,\n  0.4949866,\n  0.45145306,\n  0.314444,\n  0.34550956,\n  0.3558624,\n  0.47999674,\n  0.37767065,\n  0.52288425,\n  0.30976662,\n  0.36113247,\n  0.38783252,\n  0.50456667,\n  0.41098407,\n  0.40583384,\n  0.34635228,\n  0.37888992,\n  0.45330405,\n  0.3370016,\n  0.37116045,\n  0.48534128,\n  0.44522384,\n  0.46277878,\n  0.4435745,\n  0.37339514,\n  0.37002307,\n  0.32360485,\n  0.485103,\n  0.40320852,\n  0.38407668,\n  0.29866317,\n  0.19519806,\n  0.3449738,\n  0.39480707,\n  0.42685252,\n  0.5085926,\n  0.3587427,\n  0.3008119,\n  0.40545276,\n  0.45203608,\n  0.36251867,\n  0.41071987,\n  0.3673641,\n  0.38676155,\n  0.4212811,\n  0.44243395,\n  0.35977438,\n  0.39089778,\n  0.4173125,\n  0.43651348,\n  0.4753887,\n  0.346051,\n  0.36943507,\n  0.3538866,\n  0.33950406,\n  0.47077802,\n  0.32749847,\n  0.49093643,\n  0.3811038,\n  0.51243925,\n  0.3502552,\n  0.3861684,\n  0.3903587,\n  0.36639753,\n  0.4424046,\n  0.33670667,\n  0.4117993,\n  0.28456953,\n  0.40131065,\n  0.39272395,\n  0.4305394,\n  0.40974295,\n  0.45335236,\n  0.38708767,\n  0.35233146,\n  0.31549165,\n  0.34687385,\n  0.428327,\n  0.4922857,\n  0.43005452,\n  0.3626726,\n  0.45891348,\n  0.32787862,\n  0.3123151,\n  0.38353735,\n  0.46218935,\n  0.4937051,\n  0.40451542,\n  0.4915447,\n  0.41679898,\n  0.37759683,\n  0.2855784,\n  0.40432736,\n  0.40465835,\n  0.4655609,\n  0.44703057,\n  0.35822293,\n  0.5129547,\n  0.3889813,\n  0.46525806,\n  0.3875997,\n  0.48896292,\n  0.46989122,\n  0.3248852,\n  0.42285347,\n  0.44035488,\n  0.26553828,\n  0.30126575,\n  0.40823668,\n  0.36633572,\n  0.46105978,\n  0.3002463,\n  0.4032883,\n  0.37182596,\n  0.38668197,\n  0.3814501,\n  0.286965,\n  0.43325,\n  0.357549,\n  0.41171527,\n  0.50965,\n  0.37477785,\n  0.44382405,\n  0.32293868,\n  0.4534873,\n  0.38538912,\n  0.4627835,\n  0.38151956,\n  0.42251003,\n  0.48929864,\n  0.3632401,\n  0.38212934,\n  0.35772207,\n  0.4500288,\n  0.3813609,\n  0.46749392,\n  0.44011265,\n  0.36500204,\n  0.49628013,\n  0.35481423,\n  0.3146966,\n  0.36574864,\n  0.42321044,\n  0.30758992,\n  0.47946128,\n  0.37680042,\n  0.27606115,\n  0.3689408,\n  0.33482733,\n  0.4452327,\n  0.34757048,\n  0.3251722,\n  0.4170065,\n  0.39298007,\n  0.34061867,\n  0.3884516,\n  0.31039402,\n  0.3340294,\n  0.30243102,\n  0.48479307,\n  0.4295569,\n  0.44195518,\n  0.49091622,\n  0.30888152,\n  0.38894948,\n  0.3261009,\n  0.35319313,\n  0.40763146,\n  0.4860497,\n  0.43992263,\n  0.32650897,\n  0.43075526,\n  0.44238734,\n  0.35851496,\n  0.41046804,\n  0.42399895,\n  0.4149809,\n  0.4128052,\n  0.38238224,\n  0.43969637,\n  0.46474656,\n  0.41137078,\n  0.34319115,\n  0.37955007,\n  0.31158867,\n  0.357534,\n  0.46209535,\n  0.45059836,\n  0.46793735,\n  0.34400097])"
     },
     "execution_count": 65,
     "metadata": {},
     "output_type": "execute_result"
    }
   ]
  },
  {
   "cell_type": "markdown",
   "source": [
    "# Part B: Real time face detection & ID identification "
   ],
   "metadata": {
    "id": "Tv8JBa2EngEs"
   }
  },
  {
   "cell_type": "markdown",
   "source": [
    "## Helper method for creating video streaming"
   ],
   "metadata": {
    "id": "26W3XnZzFSvJ"
   }
  },
  {
   "cell_type": "code",
   "source": [
    "# function to convert the JavaScript object into an OpenCV image\n",
    "def js_to_image(js_reply): \n",
    "  image_bytes = b64decode(js_reply.split(',')[1])        # decode base64 image\n",
    "  jpg_as_np = np.frombuffer(image_bytes, dtype=np.uint8) # convert bytes to numpy array\n",
    "  img = cv2.imdecode(jpg_as_np, flags=1)                 # decode numpy array into OpenCV BGR image\n",
    "\n",
    "  return img\n",
    "\n",
    "# function to convert OpenCV Rectangle bounding box image into base64 byte string to be overlayed on video stream\n",
    "def bbox_to_bytes(ipt):\n",
    "  # ipt: Numpy array (pixels) containing rectangle to overlay on video stream.\n",
    "  # bytes: Base64 image byte string\n",
    "  # convert array into PIL image\n",
    "  bbox_PIL = PIL.Image.fromarray(ipt, 'RGBA')\n",
    "  iobuf = io.BytesIO() \n",
    "  bbox_PIL.save(iobuf, format='png')                                                          # format bbox into png for return\n",
    "  bbox_bytes = 'data:image/png;base64,{}'.format((str(b64encode(iobuf.getvalue()), 'utf-8'))) # format return string\n",
    "\n",
    "  return bbox_bytes\n",
    "  \n",
    "# JavaScript to properly create our live video stream using our webcam as input\n",
    "def video_stream():\n",
    "  js = Javascript('''\n",
    "    var video;\n",
    "    var div = null;\n",
    "    var stream;\n",
    "    var captureCanvas;\n",
    "    var imgElement;\n",
    "    var labelElement;   \n",
    "    var pendingResolve = null;\n",
    "    var shutdown = false;\n",
    "    \n",
    "    function removeDom() {\n",
    "       stream.getVideoTracks()[0].stop();\n",
    "       video.remove();\n",
    "       div.remove();\n",
    "       video = null;\n",
    "       div = null;\n",
    "       stream = null;\n",
    "       imgElement = null;\n",
    "       captureCanvas = null;\n",
    "       labelElement = null;\n",
    "    }\n",
    "    \n",
    "    function onAnimationFrame() {\n",
    "      if (!shutdown) {\n",
    "        window.requestAnimationFrame(onAnimationFrame);\n",
    "      }\n",
    "      if (pendingResolve) {\n",
    "        var result = \"\";\n",
    "        if (!shutdown) {\n",
    "          captureCanvas.getContext('2d').drawImage(video, 0, 0, 720, 720);\n",
    "          result = captureCanvas.toDataURL('image/jpeg', 0.8)\n",
    "        }\n",
    "        var lp = pendingResolve;\n",
    "        pendingResolve = null;\n",
    "        lp(result);\n",
    "      }\n",
    "    }\n",
    "    \n",
    "    async function createDom() {\n",
    "      if (div !== null) {\n",
    "        return stream;\n",
    "      }\n",
    "\n",
    "      div = document.createElement('div');\n",
    "      div.style.border = '2px solid black';\n",
    "      div.style.padding = '3px';\n",
    "      div.style.width = '100%';\n",
    "      div.style.maxWidth = '600px';\n",
    "      document.body.appendChild(div);\n",
    "      \n",
    "      const modelOut = document.createElement('div');\n",
    "      modelOut.innerHTML = \"<span>Status:</span>\";\n",
    "      labelElement = document.createElement('span');\n",
    "      labelElement.innerText = 'No data';\n",
    "      labelElement.style.fontWeight = 'bold';\n",
    "      modelOut.appendChild(labelElement);\n",
    "      div.appendChild(modelOut);\n",
    "           \n",
    "      video = document.createElement('video');\n",
    "      video.style.display = 'block';\n",
    "      video.width = div.clientWidth - 6;\n",
    "      video.setAttribute('playsinline', '');\n",
    "      video.onclick = () => { shutdown = true; };\n",
    "      stream = await navigator.mediaDevices.getUserMedia(\n",
    "          {video: { facingMode: \"environment\"}});\n",
    "      div.appendChild(video);\n",
    "\n",
    "      imgElement = document.createElement('img');\n",
    "      imgElement.style.position = 'absolute';\n",
    "      imgElement.style.zIndex = 1;\n",
    "      imgElement.onclick = () => { shutdown = true; };\n",
    "      div.appendChild(imgElement);\n",
    "      \n",
    "      const instruction = document.createElement('div');\n",
    "      instruction.innerHTML = '<span style=\"color: red; font-weight: bold;\">' + 'When finished, click here or on the video to stop this demo</span>';\n",
    "      div.appendChild(instruction);\n",
    "      instruction.onclick = () => { shutdown = true; };\n",
    "      \n",
    "      video.srcObject = stream;\n",
    "      await video.play();\n",
    "\n",
    "      captureCanvas = document.createElement('canvas');\n",
    "      captureCanvas.width = 720; //video width; 1280\n",
    "      captureCanvas.height = 720; //video height; 720\n",
    "      window.requestAnimationFrame(onAnimationFrame);\n",
    "      \n",
    "      return stream;\n",
    "    }\n",
    "    async function stream_frame(label, imgData) {\n",
    "      if (shutdown) {\n",
    "        removeDom();\n",
    "        shutdown = false;\n",
    "        return '';\n",
    "      }\n",
    "\n",
    "      var preCreate = Date.now();\n",
    "      stream = await createDom();\n",
    "      \n",
    "      var preShow = Date.now();\n",
    "      if (label != \"\") {\n",
    "        labelElement.innerHTML = label;\n",
    "      }\n",
    "            \n",
    "      if (imgData != \"\") {\n",
    "        var videoRect = video.getClientRects()[0];\n",
    "        imgElement.style.top = videoRect.top + \"px\";\n",
    "        imgElement.style.left = videoRect.left + \"px\";\n",
    "        imgElement.style.width = videoRect.width + \"px\";\n",
    "        imgElement.style.height = videoRect.height + \"px\";\n",
    "        imgElement.src = imgData;\n",
    "      }\n",
    "      \n",
    "      var preCapture = Date.now();\n",
    "      var result = await new Promise(function(resolve, reject) {\n",
    "        pendingResolve = resolve;\n",
    "      });\n",
    "      shutdown = false;\n",
    "      \n",
    "      return {'create': preShow - preCreate, \n",
    "              'show': preCapture - preShow, \n",
    "              'capture': Date.now() - preCapture,\n",
    "              'img': result};\n",
    "    }\n",
    "    ''')\n",
    "\n",
    "  display(js)\n",
    "  \n",
    "def video_frame(label, bbox):\n",
    "  data = eval_js('stream_frame(\"{}\", \"{}\")'.format(label, bbox))\n",
    "  return data"
   ],
   "metadata": {
    "id": "jTpvCmAHeuCJ"
   },
   "execution_count": 66,
   "outputs": []
  },
  {
   "cell_type": "markdown",
   "source": [
    "## Face detection model implementations"
   ],
   "metadata": {
    "id": "e4m_f4VpszCH"
   }
  },
  {
   "cell_type": "markdown",
   "source": [
    "### Re-implementing face detection model, in case some unexpected changes were made in part A"
   ],
   "metadata": {
    "id": "Io0rL7MZJLDS"
   }
  },
  {
   "cell_type": "code",
   "execution_count": 20,
   "metadata": {
    "colab": {
     "base_uri": "https://localhost:8080/"
    },
    "id": "pu0FP7V35jQR",
    "outputId": "573b44d4-ed3c-4382-a482-0e17fd61e35c"
   },
   "outputs": [
    {
     "output_type": "stream",
     "name": "stdout",
     "text": [
      "Running on device: cuda:0\n"
     ]
    }
   ],
   "source": [
    "device = torch.device('cuda:0' if torch.cuda.is_available() else 'cpu')\n",
    "print('Running on device: {}'.format(device))\n",
    "# currently using, for face detection\n",
    "mtcnn = MTCNN(keep_all=True, min_face_size=224, device=device)\n",
    "# A faster model\n",
    "mtcnn_fast = FastMTCNN(keep_all=True, min_face_size=224, device=device,stride=4)"
   ]
  },
  {
   "cell_type": "markdown",
   "source": [
    "### Turning on webcam, start real-time ID recognition"
   ],
   "metadata": {
    "id": "tpzpKIe6JYuj"
   }
  },
  {
   "cell_type": "code",
   "source": [
    "model = torch.load(\"/content/drive/My Drive/MIE1517/Project/GaussianMixtureAlex_128_0.0001_50\")"
   ],
   "metadata": {
    "id": "qJn3xQ088330"
   },
   "execution_count": 21,
   "outputs": []
  },
  {
   "cell_type": "code",
   "execution_count": 43,
   "metadata": {
    "id": "1nkSnkbkk4cC",
    "colab": {
     "base_uri": "https://localhost:8080/",
     "height": 890
    },
    "outputId": "b075fbc1-da59-436e-a271-4d16b4dcaefa"
   },
   "outputs": [
    {
     "output_type": "display_data",
     "data": {
      "text/plain": [
       "<IPython.core.display.Javascript object>"
      ],
      "application/javascript": [
       "\n",
       "    var video;\n",
       "    var div = null;\n",
       "    var stream;\n",
       "    var captureCanvas;\n",
       "    var imgElement;\n",
       "    var labelElement;   \n",
       "    var pendingResolve = null;\n",
       "    var shutdown = false;\n",
       "    \n",
       "    function removeDom() {\n",
       "       stream.getVideoTracks()[0].stop();\n",
       "       video.remove();\n",
       "       div.remove();\n",
       "       video = null;\n",
       "       div = null;\n",
       "       stream = null;\n",
       "       imgElement = null;\n",
       "       captureCanvas = null;\n",
       "       labelElement = null;\n",
       "    }\n",
       "    \n",
       "    function onAnimationFrame() {\n",
       "      if (!shutdown) {\n",
       "        window.requestAnimationFrame(onAnimationFrame);\n",
       "      }\n",
       "      if (pendingResolve) {\n",
       "        var result = \"\";\n",
       "        if (!shutdown) {\n",
       "          captureCanvas.getContext('2d').drawImage(video, 0, 0, 720, 720);\n",
       "          result = captureCanvas.toDataURL('image/jpeg', 0.8)\n",
       "        }\n",
       "        var lp = pendingResolve;\n",
       "        pendingResolve = null;\n",
       "        lp(result);\n",
       "      }\n",
       "    }\n",
       "    \n",
       "    async function createDom() {\n",
       "      if (div !== null) {\n",
       "        return stream;\n",
       "      }\n",
       "\n",
       "      div = document.createElement('div');\n",
       "      div.style.border = '2px solid black';\n",
       "      div.style.padding = '3px';\n",
       "      div.style.width = '100%';\n",
       "      div.style.maxWidth = '600px';\n",
       "      document.body.appendChild(div);\n",
       "      \n",
       "      const modelOut = document.createElement('div');\n",
       "      modelOut.innerHTML = \"<span>Status:</span>\";\n",
       "      labelElement = document.createElement('span');\n",
       "      labelElement.innerText = 'No data';\n",
       "      labelElement.style.fontWeight = 'bold';\n",
       "      modelOut.appendChild(labelElement);\n",
       "      div.appendChild(modelOut);\n",
       "           \n",
       "      video = document.createElement('video');\n",
       "      video.style.display = 'block';\n",
       "      video.width = div.clientWidth - 6;\n",
       "      video.setAttribute('playsinline', '');\n",
       "      video.onclick = () => { shutdown = true; };\n",
       "      stream = await navigator.mediaDevices.getUserMedia(\n",
       "          {video: { facingMode: \"environment\"}});\n",
       "      div.appendChild(video);\n",
       "\n",
       "      imgElement = document.createElement('img');\n",
       "      imgElement.style.position = 'absolute';\n",
       "      imgElement.style.zIndex = 1;\n",
       "      imgElement.onclick = () => { shutdown = true; };\n",
       "      div.appendChild(imgElement);\n",
       "      \n",
       "      const instruction = document.createElement('div');\n",
       "      instruction.innerHTML = '<span style=\"color: red; font-weight: bold;\">' + 'When finished, click here or on the video to stop this demo</span>';\n",
       "      div.appendChild(instruction);\n",
       "      instruction.onclick = () => { shutdown = true; };\n",
       "      \n",
       "      video.srcObject = stream;\n",
       "      await video.play();\n",
       "\n",
       "      captureCanvas = document.createElement('canvas');\n",
       "      captureCanvas.width = 720; //video width; 1280\n",
       "      captureCanvas.height = 720; //video height; 720\n",
       "      window.requestAnimationFrame(onAnimationFrame);\n",
       "      \n",
       "      return stream;\n",
       "    }\n",
       "    async function stream_frame(label, imgData) {\n",
       "      if (shutdown) {\n",
       "        removeDom();\n",
       "        shutdown = false;\n",
       "        return '';\n",
       "      }\n",
       "\n",
       "      var preCreate = Date.now();\n",
       "      stream = await createDom();\n",
       "      \n",
       "      var preShow = Date.now();\n",
       "      if (label != \"\") {\n",
       "        labelElement.innerHTML = label;\n",
       "      }\n",
       "            \n",
       "      if (imgData != \"\") {\n",
       "        var videoRect = video.getClientRects()[0];\n",
       "        imgElement.style.top = videoRect.top + \"px\";\n",
       "        imgElement.style.left = videoRect.left + \"px\";\n",
       "        imgElement.style.width = videoRect.width + \"px\";\n",
       "        imgElement.style.height = videoRect.height + \"px\";\n",
       "        imgElement.src = imgData;\n",
       "      }\n",
       "      \n",
       "      var preCapture = Date.now();\n",
       "      var result = await new Promise(function(resolve, reject) {\n",
       "        pendingResolve = resolve;\n",
       "      });\n",
       "      shutdown = false;\n",
       "      \n",
       "      return {'create': preShow - preCreate, \n",
       "              'show': preCapture - preShow, \n",
       "              'capture': Date.now() - preCapture,\n",
       "              'img': result};\n",
       "    }\n",
       "    "
      ]
     },
     "metadata": {}
    },
    {
     "output_type": "error",
     "ename": "KeyboardInterrupt",
     "evalue": "ignored",
     "traceback": [
      "\u001B[0;31m---------------------------------------------------------------------------\u001B[0m",
      "\u001B[0;31mKeyboardInterrupt\u001B[0m                         Traceback (most recent call last)",
      "\u001B[0;32m<ipython-input-43-422f89cb9768>\u001B[0m in \u001B[0;36m<module>\u001B[0;34m()\u001B[0m\n\u001B[1;32m     59\u001B[0m           \u001B[0mfaces\u001B[0m \u001B[0;34m=\u001B[0m \u001B[0mtransform\u001B[0m\u001B[0;34m(\u001B[0m\u001B[0mfaces\u001B[0m\u001B[0;34m)\u001B[0m\u001B[0;34m\u001B[0m\u001B[0;34m\u001B[0m\u001B[0m\n\u001B[1;32m     60\u001B[0m \u001B[0;34m\u001B[0m\u001B[0m\n\u001B[0;32m---> 61\u001B[0;31m           \u001B[0malexnet\u001B[0m \u001B[0;34m=\u001B[0m \u001B[0mtorchvision\u001B[0m\u001B[0;34m.\u001B[0m\u001B[0mmodels\u001B[0m\u001B[0;34m.\u001B[0m\u001B[0malexnet\u001B[0m\u001B[0;34m(\u001B[0m\u001B[0mpretrained\u001B[0m\u001B[0;34m=\u001B[0m\u001B[0;32mTrue\u001B[0m\u001B[0;34m)\u001B[0m\u001B[0;34m\u001B[0m\u001B[0;34m\u001B[0m\u001B[0m\n\u001B[0m\u001B[1;32m     62\u001B[0m \u001B[0;34m\u001B[0m\u001B[0m\n\u001B[1;32m     63\u001B[0m           \u001B[0mgrey_images\u001B[0m \u001B[0;34m=\u001B[0m \u001B[0mtorchvision\u001B[0m\u001B[0;34m.\u001B[0m\u001B[0mtransforms\u001B[0m\u001B[0;34m.\u001B[0m\u001B[0mGrayscale\u001B[0m\u001B[0;34m(\u001B[0m\u001B[0;34m)\u001B[0m\u001B[0;34m(\u001B[0m\u001B[0mfaces\u001B[0m\u001B[0;34m)\u001B[0m\u001B[0;34m\u001B[0m\u001B[0;34m\u001B[0m\u001B[0m\n",
      "\u001B[0;32m/usr/local/lib/python3.7/dist-packages/torchvision/models/alexnet.py\u001B[0m in \u001B[0;36malexnet\u001B[0;34m(pretrained, progress, **kwargs)\u001B[0m\n\u001B[1;32m     60\u001B[0m         \u001B[0mprogress\u001B[0m \u001B[0;34m(\u001B[0m\u001B[0mbool\u001B[0m\u001B[0;34m)\u001B[0m\u001B[0;34m:\u001B[0m \u001B[0mIf\u001B[0m \u001B[0;32mTrue\u001B[0m\u001B[0;34m,\u001B[0m \u001B[0mdisplays\u001B[0m \u001B[0ma\u001B[0m \u001B[0mprogress\u001B[0m \u001B[0mbar\u001B[0m \u001B[0mof\u001B[0m \u001B[0mthe\u001B[0m \u001B[0mdownload\u001B[0m \u001B[0mto\u001B[0m \u001B[0mstderr\u001B[0m\u001B[0;34m\u001B[0m\u001B[0;34m\u001B[0m\u001B[0m\n\u001B[1;32m     61\u001B[0m     \"\"\"\n\u001B[0;32m---> 62\u001B[0;31m     \u001B[0mmodel\u001B[0m \u001B[0;34m=\u001B[0m \u001B[0mAlexNet\u001B[0m\u001B[0;34m(\u001B[0m\u001B[0;34m**\u001B[0m\u001B[0mkwargs\u001B[0m\u001B[0;34m)\u001B[0m\u001B[0;34m\u001B[0m\u001B[0;34m\u001B[0m\u001B[0m\n\u001B[0m\u001B[1;32m     63\u001B[0m     \u001B[0;32mif\u001B[0m \u001B[0mpretrained\u001B[0m\u001B[0;34m:\u001B[0m\u001B[0;34m\u001B[0m\u001B[0;34m\u001B[0m\u001B[0m\n\u001B[1;32m     64\u001B[0m         state_dict = load_state_dict_from_url(model_urls['alexnet'],\n",
      "\u001B[0;32m/usr/local/lib/python3.7/dist-packages/torchvision/models/alexnet.py\u001B[0m in \u001B[0;36m__init__\u001B[0;34m(self, num_classes)\u001B[0m\n\u001B[1;32m     35\u001B[0m         self.classifier = nn.Sequential(\n\u001B[1;32m     36\u001B[0m             \u001B[0mnn\u001B[0m\u001B[0;34m.\u001B[0m\u001B[0mDropout\u001B[0m\u001B[0;34m(\u001B[0m\u001B[0;34m)\u001B[0m\u001B[0;34m,\u001B[0m\u001B[0;34m\u001B[0m\u001B[0;34m\u001B[0m\u001B[0m\n\u001B[0;32m---> 37\u001B[0;31m             \u001B[0mnn\u001B[0m\u001B[0;34m.\u001B[0m\u001B[0mLinear\u001B[0m\u001B[0;34m(\u001B[0m\u001B[0;36m256\u001B[0m \u001B[0;34m*\u001B[0m \u001B[0;36m6\u001B[0m \u001B[0;34m*\u001B[0m \u001B[0;36m6\u001B[0m\u001B[0;34m,\u001B[0m \u001B[0;36m4096\u001B[0m\u001B[0;34m)\u001B[0m\u001B[0;34m,\u001B[0m\u001B[0;34m\u001B[0m\u001B[0;34m\u001B[0m\u001B[0m\n\u001B[0m\u001B[1;32m     38\u001B[0m             \u001B[0mnn\u001B[0m\u001B[0;34m.\u001B[0m\u001B[0mReLU\u001B[0m\u001B[0;34m(\u001B[0m\u001B[0minplace\u001B[0m\u001B[0;34m=\u001B[0m\u001B[0;32mTrue\u001B[0m\u001B[0;34m)\u001B[0m\u001B[0;34m,\u001B[0m\u001B[0;34m\u001B[0m\u001B[0;34m\u001B[0m\u001B[0m\n\u001B[1;32m     39\u001B[0m             \u001B[0mnn\u001B[0m\u001B[0;34m.\u001B[0m\u001B[0mDropout\u001B[0m\u001B[0;34m(\u001B[0m\u001B[0;34m)\u001B[0m\u001B[0;34m,\u001B[0m\u001B[0;34m\u001B[0m\u001B[0;34m\u001B[0m\u001B[0m\n",
      "\u001B[0;32m/usr/local/lib/python3.7/dist-packages/torch/nn/modules/linear.py\u001B[0m in \u001B[0;36m__init__\u001B[0;34m(self, in_features, out_features, bias, device, dtype)\u001B[0m\n\u001B[1;32m     88\u001B[0m         \u001B[0;32melse\u001B[0m\u001B[0;34m:\u001B[0m\u001B[0;34m\u001B[0m\u001B[0;34m\u001B[0m\u001B[0m\n\u001B[1;32m     89\u001B[0m             \u001B[0mself\u001B[0m\u001B[0;34m.\u001B[0m\u001B[0mregister_parameter\u001B[0m\u001B[0;34m(\u001B[0m\u001B[0;34m'bias'\u001B[0m\u001B[0;34m,\u001B[0m \u001B[0;32mNone\u001B[0m\u001B[0;34m)\u001B[0m\u001B[0;34m\u001B[0m\u001B[0;34m\u001B[0m\u001B[0m\n\u001B[0;32m---> 90\u001B[0;31m         \u001B[0mself\u001B[0m\u001B[0;34m.\u001B[0m\u001B[0mreset_parameters\u001B[0m\u001B[0;34m(\u001B[0m\u001B[0;34m)\u001B[0m\u001B[0;34m\u001B[0m\u001B[0;34m\u001B[0m\u001B[0m\n\u001B[0m\u001B[1;32m     91\u001B[0m \u001B[0;34m\u001B[0m\u001B[0m\n\u001B[1;32m     92\u001B[0m     \u001B[0;32mdef\u001B[0m \u001B[0mreset_parameters\u001B[0m\u001B[0;34m(\u001B[0m\u001B[0mself\u001B[0m\u001B[0;34m)\u001B[0m \u001B[0;34m->\u001B[0m \u001B[0;32mNone\u001B[0m\u001B[0;34m:\u001B[0m\u001B[0;34m\u001B[0m\u001B[0;34m\u001B[0m\u001B[0m\n",
      "\u001B[0;32m/usr/local/lib/python3.7/dist-packages/torch/nn/modules/linear.py\u001B[0m in \u001B[0;36mreset_parameters\u001B[0;34m(self)\u001B[0m\n\u001B[1;32m     94\u001B[0m         \u001B[0;31m# uniform(-1/sqrt(in_features), 1/sqrt(in_features)). For details, see\u001B[0m\u001B[0;34m\u001B[0m\u001B[0;34m\u001B[0m\u001B[0;34m\u001B[0m\u001B[0m\n\u001B[1;32m     95\u001B[0m         \u001B[0;31m# https://github.com/pytorch/pytorch/issues/57109\u001B[0m\u001B[0;34m\u001B[0m\u001B[0;34m\u001B[0m\u001B[0;34m\u001B[0m\u001B[0m\n\u001B[0;32m---> 96\u001B[0;31m         \u001B[0minit\u001B[0m\u001B[0;34m.\u001B[0m\u001B[0mkaiming_uniform_\u001B[0m\u001B[0;34m(\u001B[0m\u001B[0mself\u001B[0m\u001B[0;34m.\u001B[0m\u001B[0mweight\u001B[0m\u001B[0;34m,\u001B[0m \u001B[0ma\u001B[0m\u001B[0;34m=\u001B[0m\u001B[0mmath\u001B[0m\u001B[0;34m.\u001B[0m\u001B[0msqrt\u001B[0m\u001B[0;34m(\u001B[0m\u001B[0;36m5\u001B[0m\u001B[0;34m)\u001B[0m\u001B[0;34m)\u001B[0m\u001B[0;34m\u001B[0m\u001B[0;34m\u001B[0m\u001B[0m\n\u001B[0m\u001B[1;32m     97\u001B[0m         \u001B[0;32mif\u001B[0m \u001B[0mself\u001B[0m\u001B[0;34m.\u001B[0m\u001B[0mbias\u001B[0m \u001B[0;32mis\u001B[0m \u001B[0;32mnot\u001B[0m \u001B[0;32mNone\u001B[0m\u001B[0;34m:\u001B[0m\u001B[0;34m\u001B[0m\u001B[0;34m\u001B[0m\u001B[0m\n\u001B[1;32m     98\u001B[0m             \u001B[0mfan_in\u001B[0m\u001B[0;34m,\u001B[0m \u001B[0m_\u001B[0m \u001B[0;34m=\u001B[0m \u001B[0minit\u001B[0m\u001B[0;34m.\u001B[0m\u001B[0m_calculate_fan_in_and_fan_out\u001B[0m\u001B[0;34m(\u001B[0m\u001B[0mself\u001B[0m\u001B[0;34m.\u001B[0m\u001B[0mweight\u001B[0m\u001B[0;34m)\u001B[0m\u001B[0;34m\u001B[0m\u001B[0;34m\u001B[0m\u001B[0m\n",
      "\u001B[0;32m/usr/local/lib/python3.7/dist-packages/torch/nn/init.py\u001B[0m in \u001B[0;36mkaiming_uniform_\u001B[0;34m(tensor, a, mode, nonlinearity)\u001B[0m\n\u001B[1;32m    393\u001B[0m     \u001B[0mbound\u001B[0m \u001B[0;34m=\u001B[0m \u001B[0mmath\u001B[0m\u001B[0;34m.\u001B[0m\u001B[0msqrt\u001B[0m\u001B[0;34m(\u001B[0m\u001B[0;36m3.0\u001B[0m\u001B[0;34m)\u001B[0m \u001B[0;34m*\u001B[0m \u001B[0mstd\u001B[0m  \u001B[0;31m# Calculate uniform bounds from standard deviation\u001B[0m\u001B[0;34m\u001B[0m\u001B[0;34m\u001B[0m\u001B[0m\n\u001B[1;32m    394\u001B[0m     \u001B[0;32mwith\u001B[0m \u001B[0mtorch\u001B[0m\u001B[0;34m.\u001B[0m\u001B[0mno_grad\u001B[0m\u001B[0;34m(\u001B[0m\u001B[0;34m)\u001B[0m\u001B[0;34m:\u001B[0m\u001B[0;34m\u001B[0m\u001B[0;34m\u001B[0m\u001B[0m\n\u001B[0;32m--> 395\u001B[0;31m         \u001B[0;32mreturn\u001B[0m \u001B[0mtensor\u001B[0m\u001B[0;34m.\u001B[0m\u001B[0muniform_\u001B[0m\u001B[0;34m(\u001B[0m\u001B[0;34m-\u001B[0m\u001B[0mbound\u001B[0m\u001B[0;34m,\u001B[0m \u001B[0mbound\u001B[0m\u001B[0;34m)\u001B[0m\u001B[0;34m\u001B[0m\u001B[0;34m\u001B[0m\u001B[0m\n\u001B[0m\u001B[1;32m    396\u001B[0m \u001B[0;34m\u001B[0m\u001B[0m\n\u001B[1;32m    397\u001B[0m \u001B[0;34m\u001B[0m\u001B[0m\n",
      "\u001B[0;31mKeyboardInterrupt\u001B[0m: "
     ]
    }
   ],
   "source": [
    "from torch.functional import Tensor\n",
    "video_stream()\n",
    "label_html = 'Capturing Video...'\n",
    "bbox = ''\n",
    "while True:\n",
    "    js_reply = video_frame(label_html, bbox)\n",
    "    if not js_reply:\n",
    "        break\n",
    "    \n",
    "    img = js_to_image(js_reply[\"img\"])                            #Calling helper method to convert JS response to OpenCV Image\n",
    "\n",
    "    rgb_img = cv2.cvtColor(img, cv2.COLOR_BGR2RGB)\n",
    "    #frame_fast = torch.from_numpy(rgb_img) \n",
    "    #frame_fast = torch.stack([frame_fast], dim=0)                #Prepared input frame for mtcnn_fast face detection model\n",
    "    frame = Image.fromarray(rgb_img)                              #Prepared input frame for mtcnn face detection model\n",
    "\n",
    "    faces, _ = mtcnn.detect(frame)                                #Return coordinates of faces from mtcnn model\n",
    "    #faces_fast = mtcnn_fast(frame_fast)                          #Higher throughput model, return captured face images, not coordinates.\n",
    "    #plt.imshow(faces_fast[0].detach().numpy(), cmap = 'gray')    #Displaying images only for developing, commented out in actual practice.\n",
    "    #plt.show()\n",
    "\n",
    "    bbox_array = np.zeros([720,720,4], dtype=np.uint8)            #Creating a transparent overlay for drawing bounding box\n",
    "\n",
    "    if faces is not None: \n",
    "      for (x,y,w,h) in faces:\n",
    "        x_w_diff = int(w-x)\n",
    "        y_h_diff = int(h-y)\n",
    "        if x_w_diff > 223. and y_h_diff >223.:                    #Size filtering, detected faces need to be clear enough (224 x 224)\n",
    "          x_w_mid = int(x+(w-x)/2)                                #Finding the middle point along the x-axis\n",
    "          y_h_mid = int(y+(h-y)/2)                                #Finding the middle point along the y-axis\n",
    "          selected_x = x_w_mid - 140\n",
    "          selected_w = x_w_mid + 140\n",
    "          selected_y = y_h_mid - 260\n",
    "          selected_h = y_h_mid + 20                               \n",
    " \n",
    "          selected_img = img[selected_y:selected_h, selected_x:selected_w, :]  #Adjustment for cropping the correct face images.\n",
    "\n",
    "          try:\n",
    "            faces = Image.fromarray(selected_img).resize((224,224))\n",
    "          except:\n",
    "            label_html = \"Move face to the center\"\n",
    "            continue\n",
    "    \n",
    "          gray_img = cv2.cvtColor(np.array(faces), cv2.COLOR_RGB2GRAY)\n",
    "          #plt.imshow(gray_img, cmap = 'gray')                                 #Displaying face images during developing, commented out in actual practice\n",
    "          #plt.show()\n",
    "          \n",
    "          input_for_face_recognition = torch.from_numpy(gray_img) \n",
    "          input_for_face_recognition = torch.stack([input_for_face_recognition], dim=0) #Prepared input in tensor format, Ready for our ID detection model\n",
    "          \n",
    "\n",
    "          # Facial identification process will be placed here\n",
    "\n",
    "          transform = transforms.Compose([transforms.Resize((224, 224)),\n",
    "                # transforms.RandomHorizontalFlip(),  # flip images\n",
    "                transforms.ToTensor(),\n",
    "                transforms.Normalize(mean=[0.5, 0.5, 0.5], std=[0.5, 0.5, 0.5]),])\n",
    "\n",
    "          faces = transform(faces)\n",
    "\n",
    "          alexnet = torchvision.models.alexnet(pretrained=True)\n",
    "\n",
    "          grey_images = torchvision.transforms.Grayscale()(faces)\n",
    "\n",
    "          imgs = torch.tensor(np.tile(grey_images, [1,3,1,1]))\n",
    "          \n",
    "          imgs = alexnet.features(imgs)\n",
    "          if use_cuda and torch.cuda.is_available():\n",
    "            imgs = imgs.cuda()\n",
    "          #############################################\n",
    "\n",
    "          mean, var = model(imgs)\n",
    "\n",
    "          confidence = nn.Softmax(dim=1)(mean)\n",
    "\n",
    "          confidence = torch.max(confidence)\n",
    "\n",
    "           #select index with maximum prediction score\n",
    "          pred = torch.argmax(mean, dim=1)\n",
    "          pred = pred.cpu().detach().numpy()\n",
    "          name_dict = {0: 'Bob', 1: 'DYY', 2: 'HYL', 3: 'JCL', 4: 'LD', 5: 'ML', 6: 'Roy', 7: 'Ruihua Qiao', 8: 'Starlord', 9: 'WPL', 10: 'Chen Zhao', 11: 'Zijian Chen'}\n",
    "          pred_name = name_dict[pred[0]]\n",
    "          result = pred_name  # + \" Confidence {}  Uncertainty {}\".format(str(confidence.cpu().detach()) ,var[0][pred[0]])\n",
    "          # print(result)\n",
    "          label_html = result\n",
    "\n",
    "          box_height = (w,int(h-(20)))                                           #Adjusting the size of the bounding box to indicate detected faces.\n",
    "          bbox_array = cv2.rectangle(bbox_array,(x,y), box_height, (0,255,0), 2) #Bounding box size and colour\n",
    "      bbox_array[:,:,3] = (bbox_array.max(axis = 2) > 0 ).astype(int) * 255  \n",
    "      bbox_bytes = bbox_to_bytes(bbox_array)                                     # converting overlay of bbox into bytes  \n",
    "      bbox =bbox_bytes                                                           # update bbox for the next frame  "
   ]
  },
  {
   "cell_type": "code",
   "source": [
    "%%shell\n",
    "jupyter nbconvert --to html Project_Face_detection.ipynb"
   ],
   "metadata": {
    "id": "3uKX1qnj0HVW"
   },
   "execution_count": null,
   "outputs": []
  },
  {
   "cell_type": "code",
   "source": [
    ""
   ],
   "metadata": {
    "id": "Z6Rs0gufBXJY"
   },
   "execution_count": null,
   "outputs": []
  }
 ]
}